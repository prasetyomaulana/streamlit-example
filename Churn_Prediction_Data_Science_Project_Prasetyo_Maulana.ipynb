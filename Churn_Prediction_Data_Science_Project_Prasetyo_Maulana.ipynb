{
  "cells": [
    {
      "cell_type": "markdown",
      "metadata": {
        "id": "view-in-github",
        "colab_type": "text"
      },
      "source": [
        "<a href=\"https://colab.research.google.com/github/prasetyomaulana/streamlit-example/blob/master/Churn_Prediction_Data_Science_Project_Prasetyo_Maulana.ipynb\" target=\"_parent\"><img src=\"https://colab.research.google.com/assets/colab-badge.svg\" alt=\"Open In Colab\"/></a>"
      ]
    },
    {
      "cell_type": "markdown",
      "metadata": {
        "id": "usTzjQIjPPoo"
      },
      "source": [
        "# **Import Library yang Diperlukan**"
      ]
    },
    {
      "cell_type": "code",
      "execution_count": 1,
      "metadata": {
        "id": "xW9do7UJXJs_"
      },
      "outputs": [],
      "source": [
        "import pandas as pd\n",
        "import numpy as np\n",
        "import matplotlib.pyplot as plt\n",
        "%matplotlib inline\n",
        "import seaborn as sns\n",
        "import warnings\n",
        "warnings.filterwarnings('ignore')\n",
        "import pickle\n",
        "import plotly.express as px\n",
        "from collections import Counter\n",
        "from sklearn.preprocessing import LabelEncoder\n",
        "from sklearn.datasets import make_classification\n",
        "from sklearn.model_selection import StratifiedKFold\n",
        "from sklearn.model_selection import cross_val_score\n",
        "from sklearn.linear_model import LogisticRegression"
      ]
    },
    {
      "cell_type": "markdown",
      "metadata": {
        "id": "v5URz4aGPW6o"
      },
      "source": [
        "# **Menampilkan Dataset**"
      ]
    },
    {
      "cell_type": "code",
      "execution_count": 2,
      "metadata": {
        "colab": {
          "base_uri": "https://localhost:8080/"
        },
        "id": "Zcg9ZEHvXQHe",
        "outputId": "98b06eec-ceaa-4771-aed0-66fffb06b07d"
      },
      "outputs": [
        {
          "output_type": "stream",
          "name": "stdout",
          "text": [
            "Mounted at /content/drive\n"
          ]
        }
      ],
      "source": [
        "from google.colab import drive\n",
        "drive.mount(\"/content/drive\")"
      ]
    },
    {
      "cell_type": "code",
      "execution_count": 3,
      "metadata": {
        "id": "cQ6n7_NCxBFX"
      },
      "outputs": [],
      "source": [
        "# Dataset = pd.read_csv('/content/Dataset1_Customer_Churn.csv')"
      ]
    },
    {
      "cell_type": "code",
      "execution_count": 4,
      "metadata": {
        "id": "5BbjOa9qXTGO"
      },
      "outputs": [],
      "source": [
        "# Dataset = pd.read_csv(\"/content/drive/MyDrive/Bootcamp Data Science/Colab Notebooks/Final Project/Dataset1_Customer_Churn.csv\")\n",
        "# Dataset"
      ]
    },
    {
      "cell_type": "code",
      "source": [
        "Dataset = pd.read_csv(\"/content/drive/MyDrive/Classroom/Dataset1_Customer_Churn (1).csv\")\n",
        "Dataset"
      ],
      "metadata": {
        "id": "s2PdkWwllFyR",
        "outputId": "fc4fd37a-f610-4d30-9028-de39bd53d8b7",
        "colab": {
          "base_uri": "https://localhost:8080/",
          "height": 424
        }
      },
      "execution_count": 5,
      "outputs": [
        {
          "output_type": "execute_result",
          "data": {
            "text/plain": [
              "      CustomerId  Gender  Age  CreditScore  EstimatedSalary  HasCrCard  Exited\n",
              "0       15634602  Female   42          619        101348.88          1       1\n",
              "1       15647311  Female   41          608        112542.58          0       0\n",
              "2       15619304  Female   42          502        113931.57          1       1\n",
              "3       15701354  Female   39          699         93826.63          0       0\n",
              "4       15737888  Female   43          850         79084.10          1       0\n",
              "...          ...     ...  ...          ...              ...        ...     ...\n",
              "9995    15606229    Male   39          771         96270.64          1       0\n",
              "9996    15569892    Male   35          516        101699.77          1       0\n",
              "9997    15584532  Female   36          709         42085.58          0       1\n",
              "9998    15682355    Male   42          772         92888.52          1       1\n",
              "9999    15628319  Female   28          792         38190.78          1       0\n",
              "\n",
              "[10000 rows x 7 columns]"
            ],
            "text/html": [
              "\n",
              "  <div id=\"df-03cbab94-1973-4071-b942-288416ee7041\">\n",
              "    <div class=\"colab-df-container\">\n",
              "      <div>\n",
              "<style scoped>\n",
              "    .dataframe tbody tr th:only-of-type {\n",
              "        vertical-align: middle;\n",
              "    }\n",
              "\n",
              "    .dataframe tbody tr th {\n",
              "        vertical-align: top;\n",
              "    }\n",
              "\n",
              "    .dataframe thead th {\n",
              "        text-align: right;\n",
              "    }\n",
              "</style>\n",
              "<table border=\"1\" class=\"dataframe\">\n",
              "  <thead>\n",
              "    <tr style=\"text-align: right;\">\n",
              "      <th></th>\n",
              "      <th>CustomerId</th>\n",
              "      <th>Gender</th>\n",
              "      <th>Age</th>\n",
              "      <th>CreditScore</th>\n",
              "      <th>EstimatedSalary</th>\n",
              "      <th>HasCrCard</th>\n",
              "      <th>Exited</th>\n",
              "    </tr>\n",
              "  </thead>\n",
              "  <tbody>\n",
              "    <tr>\n",
              "      <th>0</th>\n",
              "      <td>15634602</td>\n",
              "      <td>Female</td>\n",
              "      <td>42</td>\n",
              "      <td>619</td>\n",
              "      <td>101348.88</td>\n",
              "      <td>1</td>\n",
              "      <td>1</td>\n",
              "    </tr>\n",
              "    <tr>\n",
              "      <th>1</th>\n",
              "      <td>15647311</td>\n",
              "      <td>Female</td>\n",
              "      <td>41</td>\n",
              "      <td>608</td>\n",
              "      <td>112542.58</td>\n",
              "      <td>0</td>\n",
              "      <td>0</td>\n",
              "    </tr>\n",
              "    <tr>\n",
              "      <th>2</th>\n",
              "      <td>15619304</td>\n",
              "      <td>Female</td>\n",
              "      <td>42</td>\n",
              "      <td>502</td>\n",
              "      <td>113931.57</td>\n",
              "      <td>1</td>\n",
              "      <td>1</td>\n",
              "    </tr>\n",
              "    <tr>\n",
              "      <th>3</th>\n",
              "      <td>15701354</td>\n",
              "      <td>Female</td>\n",
              "      <td>39</td>\n",
              "      <td>699</td>\n",
              "      <td>93826.63</td>\n",
              "      <td>0</td>\n",
              "      <td>0</td>\n",
              "    </tr>\n",
              "    <tr>\n",
              "      <th>4</th>\n",
              "      <td>15737888</td>\n",
              "      <td>Female</td>\n",
              "      <td>43</td>\n",
              "      <td>850</td>\n",
              "      <td>79084.10</td>\n",
              "      <td>1</td>\n",
              "      <td>0</td>\n",
              "    </tr>\n",
              "    <tr>\n",
              "      <th>...</th>\n",
              "      <td>...</td>\n",
              "      <td>...</td>\n",
              "      <td>...</td>\n",
              "      <td>...</td>\n",
              "      <td>...</td>\n",
              "      <td>...</td>\n",
              "      <td>...</td>\n",
              "    </tr>\n",
              "    <tr>\n",
              "      <th>9995</th>\n",
              "      <td>15606229</td>\n",
              "      <td>Male</td>\n",
              "      <td>39</td>\n",
              "      <td>771</td>\n",
              "      <td>96270.64</td>\n",
              "      <td>1</td>\n",
              "      <td>0</td>\n",
              "    </tr>\n",
              "    <tr>\n",
              "      <th>9996</th>\n",
              "      <td>15569892</td>\n",
              "      <td>Male</td>\n",
              "      <td>35</td>\n",
              "      <td>516</td>\n",
              "      <td>101699.77</td>\n",
              "      <td>1</td>\n",
              "      <td>0</td>\n",
              "    </tr>\n",
              "    <tr>\n",
              "      <th>9997</th>\n",
              "      <td>15584532</td>\n",
              "      <td>Female</td>\n",
              "      <td>36</td>\n",
              "      <td>709</td>\n",
              "      <td>42085.58</td>\n",
              "      <td>0</td>\n",
              "      <td>1</td>\n",
              "    </tr>\n",
              "    <tr>\n",
              "      <th>9998</th>\n",
              "      <td>15682355</td>\n",
              "      <td>Male</td>\n",
              "      <td>42</td>\n",
              "      <td>772</td>\n",
              "      <td>92888.52</td>\n",
              "      <td>1</td>\n",
              "      <td>1</td>\n",
              "    </tr>\n",
              "    <tr>\n",
              "      <th>9999</th>\n",
              "      <td>15628319</td>\n",
              "      <td>Female</td>\n",
              "      <td>28</td>\n",
              "      <td>792</td>\n",
              "      <td>38190.78</td>\n",
              "      <td>1</td>\n",
              "      <td>0</td>\n",
              "    </tr>\n",
              "  </tbody>\n",
              "</table>\n",
              "<p>10000 rows × 7 columns</p>\n",
              "</div>\n",
              "      <button class=\"colab-df-convert\" onclick=\"convertToInteractive('df-03cbab94-1973-4071-b942-288416ee7041')\"\n",
              "              title=\"Convert this dataframe to an interactive table.\"\n",
              "              style=\"display:none;\">\n",
              "        \n",
              "  <svg xmlns=\"http://www.w3.org/2000/svg\" height=\"24px\"viewBox=\"0 0 24 24\"\n",
              "       width=\"24px\">\n",
              "    <path d=\"M0 0h24v24H0V0z\" fill=\"none\"/>\n",
              "    <path d=\"M18.56 5.44l.94 2.06.94-2.06 2.06-.94-2.06-.94-.94-2.06-.94 2.06-2.06.94zm-11 1L8.5 8.5l.94-2.06 2.06-.94-2.06-.94L8.5 2.5l-.94 2.06-2.06.94zm10 10l.94 2.06.94-2.06 2.06-.94-2.06-.94-.94-2.06-.94 2.06-2.06.94z\"/><path d=\"M17.41 7.96l-1.37-1.37c-.4-.4-.92-.59-1.43-.59-.52 0-1.04.2-1.43.59L10.3 9.45l-7.72 7.72c-.78.78-.78 2.05 0 2.83L4 21.41c.39.39.9.59 1.41.59.51 0 1.02-.2 1.41-.59l7.78-7.78 2.81-2.81c.8-.78.8-2.07 0-2.86zM5.41 20L4 18.59l7.72-7.72 1.47 1.35L5.41 20z\"/>\n",
              "  </svg>\n",
              "      </button>\n",
              "      \n",
              "  <style>\n",
              "    .colab-df-container {\n",
              "      display:flex;\n",
              "      flex-wrap:wrap;\n",
              "      gap: 12px;\n",
              "    }\n",
              "\n",
              "    .colab-df-convert {\n",
              "      background-color: #E8F0FE;\n",
              "      border: none;\n",
              "      border-radius: 50%;\n",
              "      cursor: pointer;\n",
              "      display: none;\n",
              "      fill: #1967D2;\n",
              "      height: 32px;\n",
              "      padding: 0 0 0 0;\n",
              "      width: 32px;\n",
              "    }\n",
              "\n",
              "    .colab-df-convert:hover {\n",
              "      background-color: #E2EBFA;\n",
              "      box-shadow: 0px 1px 2px rgba(60, 64, 67, 0.3), 0px 1px 3px 1px rgba(60, 64, 67, 0.15);\n",
              "      fill: #174EA6;\n",
              "    }\n",
              "\n",
              "    [theme=dark] .colab-df-convert {\n",
              "      background-color: #3B4455;\n",
              "      fill: #D2E3FC;\n",
              "    }\n",
              "\n",
              "    [theme=dark] .colab-df-convert:hover {\n",
              "      background-color: #434B5C;\n",
              "      box-shadow: 0px 1px 3px 1px rgba(0, 0, 0, 0.15);\n",
              "      filter: drop-shadow(0px 1px 2px rgba(0, 0, 0, 0.3));\n",
              "      fill: #FFFFFF;\n",
              "    }\n",
              "  </style>\n",
              "\n",
              "      <script>\n",
              "        const buttonEl =\n",
              "          document.querySelector('#df-03cbab94-1973-4071-b942-288416ee7041 button.colab-df-convert');\n",
              "        buttonEl.style.display =\n",
              "          google.colab.kernel.accessAllowed ? 'block' : 'none';\n",
              "\n",
              "        async function convertToInteractive(key) {\n",
              "          const element = document.querySelector('#df-03cbab94-1973-4071-b942-288416ee7041');\n",
              "          const dataTable =\n",
              "            await google.colab.kernel.invokeFunction('convertToInteractive',\n",
              "                                                     [key], {});\n",
              "          if (!dataTable) return;\n",
              "\n",
              "          const docLinkHtml = 'Like what you see? Visit the ' +\n",
              "            '<a target=\"_blank\" href=https://colab.research.google.com/notebooks/data_table.ipynb>data table notebook</a>'\n",
              "            + ' to learn more about interactive tables.';\n",
              "          element.innerHTML = '';\n",
              "          dataTable['output_type'] = 'display_data';\n",
              "          await google.colab.output.renderOutput(dataTable, element);\n",
              "          const docLink = document.createElement('div');\n",
              "          docLink.innerHTML = docLinkHtml;\n",
              "          element.appendChild(docLink);\n",
              "        }\n",
              "      </script>\n",
              "    </div>\n",
              "  </div>\n",
              "  "
            ]
          },
          "metadata": {},
          "execution_count": 5
        }
      ]
    },
    {
      "cell_type": "markdown",
      "metadata": {
        "id": "dMgnl9T-Oi2Z"
      },
      "source": [
        "# **Exploratory Data Analysis**"
      ]
    },
    {
      "cell_type": "code",
      "execution_count": 6,
      "metadata": {
        "id": "fE88rtlExreJ",
        "colab": {
          "base_uri": "https://localhost:8080/"
        },
        "outputId": "a970fea3-1491-4b97-966d-8263daa2d1e5"
      },
      "outputs": [
        {
          "output_type": "stream",
          "name": "stdout",
          "text": [
            "Overview of the dataset:\n",
            "\n",
            "Number of rows:  10000\n",
            "\n",
            "Number of features: 7\n",
            "\n",
            "Data Features:\n",
            "['CustomerId', 'Gender', 'Age', 'CreditScore', 'EstimatedSalary', 'HasCrCard', 'Exited']\n",
            "\n",
            "Missing values: 0\n",
            "\n",
            "Unique values:\n",
            "CustomerId         10000\n",
            "Gender                 2\n",
            "Age                   70\n",
            "CreditScore          460\n",
            "EstimatedSalary     9999\n",
            "HasCrCard              2\n",
            "Exited                 2\n",
            "dtype: int64\n"
          ]
        }
      ],
      "source": [
        "def dataoveriew(Dataset, message):\n",
        "    print(f'{message}:\\n')\n",
        "    print('Number of rows: ', Dataset.shape[0])\n",
        "    print(\"\\nNumber of features:\", Dataset.shape[1])\n",
        "    print(\"\\nData Features:\")\n",
        "    print(Dataset.columns.tolist())\n",
        "    print(\"\\nMissing values:\", Dataset.isnull().sum().values.sum())\n",
        "    print(\"\\nUnique values:\")\n",
        "    print(Dataset.nunique())\n",
        "    \n",
        "dataoveriew(Dataset, 'Overview of the dataset')"
      ]
    },
    {
      "cell_type": "markdown",
      "metadata": {
        "id": "w7cJrFxfyltA"
      },
      "source": [
        "Dataset memiliki 10000 Baris dan 7 Kolom. \n",
        "\n",
        "Ada 1 kolom(fitur) kategorikal :\n",
        "\n",
        "* **Gender**: Apakah pelanggan merupakan Laki-Laki atau Perempuan\n",
        "\n",
        "Ada 5 kolom(fitur) numerikal :\n",
        "\n",
        "* **CustomerID** : Identitas unik setiap pelanggan\n",
        "* **Age** : Usia Pelanggan\n",
        "* **CreditScore** : Skor Kredit Pelanggan\n",
        "* **EstimatedSalary** : Estimasi Pendapatan Pelanggan\n",
        "* **HasCrCard** : Apakah mpelanggan memiliki kartu kredit atau tidak, 1 = memiliki, 0 = tidak memiliki (Binary, Ya atau Tidak)\n",
        "\n",
        "Kolom(Fitur) Prediksi :\n",
        "* **Exited** : Apakah pelanggan akan meninggalkan layanan atau tidak (Binary, Ya atau Tidak)\n",
        "\n",
        "\n"
      ]
    },
    {
      "cell_type": "code",
      "execution_count": 7,
      "metadata": {
        "id": "pypNyDeQZSm7",
        "colab": {
          "base_uri": "https://localhost:8080/"
        },
        "outputId": "02652696-d21f-40d2-909f-bb7da42fea09"
      },
      "outputs": [
        {
          "output_type": "stream",
          "name": "stdout",
          "text": [
            "<class 'pandas.core.frame.DataFrame'>\n",
            "RangeIndex: 10000 entries, 0 to 9999\n",
            "Data columns (total 7 columns):\n",
            " #   Column           Non-Null Count  Dtype  \n",
            "---  ------           --------------  -----  \n",
            " 0   CustomerId       10000 non-null  int64  \n",
            " 1   Gender           10000 non-null  object \n",
            " 2   Age              10000 non-null  int64  \n",
            " 3   CreditScore      10000 non-null  int64  \n",
            " 4   EstimatedSalary  10000 non-null  float64\n",
            " 5   HasCrCard        10000 non-null  int64  \n",
            " 6   Exited           10000 non-null  int64  \n",
            "dtypes: float64(1), int64(5), object(1)\n",
            "memory usage: 547.0+ KB\n"
          ]
        }
      ],
      "source": [
        "Dataset.info()"
      ]
    },
    {
      "cell_type": "code",
      "execution_count": 8,
      "metadata": {
        "id": "eBegpNAoZ9GI",
        "colab": {
          "base_uri": "https://localhost:8080/",
          "height": 300
        },
        "outputId": "c89794b3-6fc3-423f-bad4-15ca9fdbadbf"
      },
      "outputs": [
        {
          "output_type": "execute_result",
          "data": {
            "text/plain": [
              "         CustomerId           Age   CreditScore  EstimatedSalary    HasCrCard  \\\n",
              "count  1.000000e+04  10000.000000  10000.000000     10000.000000  10000.00000   \n",
              "mean   1.569094e+07     38.921800    650.528800    100090.239881      0.70550   \n",
              "std    7.193619e+04     10.487806     96.653299     57510.492818      0.45584   \n",
              "min    1.556570e+07     18.000000    350.000000        11.580000      0.00000   \n",
              "25%    1.562853e+07     32.000000    584.000000     51002.110000      0.00000   \n",
              "50%    1.569074e+07     37.000000    652.000000    100193.915000      1.00000   \n",
              "75%    1.575323e+07     44.000000    718.000000    149388.247500      1.00000   \n",
              "max    1.581569e+07     92.000000    850.000000    199992.480000      1.00000   \n",
              "\n",
              "             Exited  \n",
              "count  10000.000000  \n",
              "mean       0.203700  \n",
              "std        0.402769  \n",
              "min        0.000000  \n",
              "25%        0.000000  \n",
              "50%        0.000000  \n",
              "75%        0.000000  \n",
              "max        1.000000  "
            ],
            "text/html": [
              "\n",
              "  <div id=\"df-9b49985b-06a4-46cd-a34c-7cb1b21bb6f8\">\n",
              "    <div class=\"colab-df-container\">\n",
              "      <div>\n",
              "<style scoped>\n",
              "    .dataframe tbody tr th:only-of-type {\n",
              "        vertical-align: middle;\n",
              "    }\n",
              "\n",
              "    .dataframe tbody tr th {\n",
              "        vertical-align: top;\n",
              "    }\n",
              "\n",
              "    .dataframe thead th {\n",
              "        text-align: right;\n",
              "    }\n",
              "</style>\n",
              "<table border=\"1\" class=\"dataframe\">\n",
              "  <thead>\n",
              "    <tr style=\"text-align: right;\">\n",
              "      <th></th>\n",
              "      <th>CustomerId</th>\n",
              "      <th>Age</th>\n",
              "      <th>CreditScore</th>\n",
              "      <th>EstimatedSalary</th>\n",
              "      <th>HasCrCard</th>\n",
              "      <th>Exited</th>\n",
              "    </tr>\n",
              "  </thead>\n",
              "  <tbody>\n",
              "    <tr>\n",
              "      <th>count</th>\n",
              "      <td>1.000000e+04</td>\n",
              "      <td>10000.000000</td>\n",
              "      <td>10000.000000</td>\n",
              "      <td>10000.000000</td>\n",
              "      <td>10000.00000</td>\n",
              "      <td>10000.000000</td>\n",
              "    </tr>\n",
              "    <tr>\n",
              "      <th>mean</th>\n",
              "      <td>1.569094e+07</td>\n",
              "      <td>38.921800</td>\n",
              "      <td>650.528800</td>\n",
              "      <td>100090.239881</td>\n",
              "      <td>0.70550</td>\n",
              "      <td>0.203700</td>\n",
              "    </tr>\n",
              "    <tr>\n",
              "      <th>std</th>\n",
              "      <td>7.193619e+04</td>\n",
              "      <td>10.487806</td>\n",
              "      <td>96.653299</td>\n",
              "      <td>57510.492818</td>\n",
              "      <td>0.45584</td>\n",
              "      <td>0.402769</td>\n",
              "    </tr>\n",
              "    <tr>\n",
              "      <th>min</th>\n",
              "      <td>1.556570e+07</td>\n",
              "      <td>18.000000</td>\n",
              "      <td>350.000000</td>\n",
              "      <td>11.580000</td>\n",
              "      <td>0.00000</td>\n",
              "      <td>0.000000</td>\n",
              "    </tr>\n",
              "    <tr>\n",
              "      <th>25%</th>\n",
              "      <td>1.562853e+07</td>\n",
              "      <td>32.000000</td>\n",
              "      <td>584.000000</td>\n",
              "      <td>51002.110000</td>\n",
              "      <td>0.00000</td>\n",
              "      <td>0.000000</td>\n",
              "    </tr>\n",
              "    <tr>\n",
              "      <th>50%</th>\n",
              "      <td>1.569074e+07</td>\n",
              "      <td>37.000000</td>\n",
              "      <td>652.000000</td>\n",
              "      <td>100193.915000</td>\n",
              "      <td>1.00000</td>\n",
              "      <td>0.000000</td>\n",
              "    </tr>\n",
              "    <tr>\n",
              "      <th>75%</th>\n",
              "      <td>1.575323e+07</td>\n",
              "      <td>44.000000</td>\n",
              "      <td>718.000000</td>\n",
              "      <td>149388.247500</td>\n",
              "      <td>1.00000</td>\n",
              "      <td>0.000000</td>\n",
              "    </tr>\n",
              "    <tr>\n",
              "      <th>max</th>\n",
              "      <td>1.581569e+07</td>\n",
              "      <td>92.000000</td>\n",
              "      <td>850.000000</td>\n",
              "      <td>199992.480000</td>\n",
              "      <td>1.00000</td>\n",
              "      <td>1.000000</td>\n",
              "    </tr>\n",
              "  </tbody>\n",
              "</table>\n",
              "</div>\n",
              "      <button class=\"colab-df-convert\" onclick=\"convertToInteractive('df-9b49985b-06a4-46cd-a34c-7cb1b21bb6f8')\"\n",
              "              title=\"Convert this dataframe to an interactive table.\"\n",
              "              style=\"display:none;\">\n",
              "        \n",
              "  <svg xmlns=\"http://www.w3.org/2000/svg\" height=\"24px\"viewBox=\"0 0 24 24\"\n",
              "       width=\"24px\">\n",
              "    <path d=\"M0 0h24v24H0V0z\" fill=\"none\"/>\n",
              "    <path d=\"M18.56 5.44l.94 2.06.94-2.06 2.06-.94-2.06-.94-.94-2.06-.94 2.06-2.06.94zm-11 1L8.5 8.5l.94-2.06 2.06-.94-2.06-.94L8.5 2.5l-.94 2.06-2.06.94zm10 10l.94 2.06.94-2.06 2.06-.94-2.06-.94-.94-2.06-.94 2.06-2.06.94z\"/><path d=\"M17.41 7.96l-1.37-1.37c-.4-.4-.92-.59-1.43-.59-.52 0-1.04.2-1.43.59L10.3 9.45l-7.72 7.72c-.78.78-.78 2.05 0 2.83L4 21.41c.39.39.9.59 1.41.59.51 0 1.02-.2 1.41-.59l7.78-7.78 2.81-2.81c.8-.78.8-2.07 0-2.86zM5.41 20L4 18.59l7.72-7.72 1.47 1.35L5.41 20z\"/>\n",
              "  </svg>\n",
              "      </button>\n",
              "      \n",
              "  <style>\n",
              "    .colab-df-container {\n",
              "      display:flex;\n",
              "      flex-wrap:wrap;\n",
              "      gap: 12px;\n",
              "    }\n",
              "\n",
              "    .colab-df-convert {\n",
              "      background-color: #E8F0FE;\n",
              "      border: none;\n",
              "      border-radius: 50%;\n",
              "      cursor: pointer;\n",
              "      display: none;\n",
              "      fill: #1967D2;\n",
              "      height: 32px;\n",
              "      padding: 0 0 0 0;\n",
              "      width: 32px;\n",
              "    }\n",
              "\n",
              "    .colab-df-convert:hover {\n",
              "      background-color: #E2EBFA;\n",
              "      box-shadow: 0px 1px 2px rgba(60, 64, 67, 0.3), 0px 1px 3px 1px rgba(60, 64, 67, 0.15);\n",
              "      fill: #174EA6;\n",
              "    }\n",
              "\n",
              "    [theme=dark] .colab-df-convert {\n",
              "      background-color: #3B4455;\n",
              "      fill: #D2E3FC;\n",
              "    }\n",
              "\n",
              "    [theme=dark] .colab-df-convert:hover {\n",
              "      background-color: #434B5C;\n",
              "      box-shadow: 0px 1px 3px 1px rgba(0, 0, 0, 0.15);\n",
              "      filter: drop-shadow(0px 1px 2px rgba(0, 0, 0, 0.3));\n",
              "      fill: #FFFFFF;\n",
              "    }\n",
              "  </style>\n",
              "\n",
              "      <script>\n",
              "        const buttonEl =\n",
              "          document.querySelector('#df-9b49985b-06a4-46cd-a34c-7cb1b21bb6f8 button.colab-df-convert');\n",
              "        buttonEl.style.display =\n",
              "          google.colab.kernel.accessAllowed ? 'block' : 'none';\n",
              "\n",
              "        async function convertToInteractive(key) {\n",
              "          const element = document.querySelector('#df-9b49985b-06a4-46cd-a34c-7cb1b21bb6f8');\n",
              "          const dataTable =\n",
              "            await google.colab.kernel.invokeFunction('convertToInteractive',\n",
              "                                                     [key], {});\n",
              "          if (!dataTable) return;\n",
              "\n",
              "          const docLinkHtml = 'Like what you see? Visit the ' +\n",
              "            '<a target=\"_blank\" href=https://colab.research.google.com/notebooks/data_table.ipynb>data table notebook</a>'\n",
              "            + ' to learn more about interactive tables.';\n",
              "          element.innerHTML = '';\n",
              "          dataTable['output_type'] = 'display_data';\n",
              "          await google.colab.output.renderOutput(dataTable, element);\n",
              "          const docLink = document.createElement('div');\n",
              "          docLink.innerHTML = docLinkHtml;\n",
              "          element.appendChild(docLink);\n",
              "        }\n",
              "      </script>\n",
              "    </div>\n",
              "  </div>\n",
              "  "
            ]
          },
          "metadata": {},
          "execution_count": 8
        }
      ],
      "source": [
        "Dataset.describe()"
      ]
    },
    {
      "cell_type": "code",
      "execution_count": 9,
      "metadata": {
        "id": "PLnqJJF_1orW",
        "colab": {
          "base_uri": "https://localhost:8080/"
        },
        "outputId": "87f92f2c-5399-4562-dba1-df6d11ae008f"
      },
      "outputs": [
        {
          "output_type": "execute_result",
          "data": {
            "text/plain": [
              "CustomerId           int64\n",
              "Gender              object\n",
              "Age                  int64\n",
              "CreditScore          int64\n",
              "EstimatedSalary    float64\n",
              "HasCrCard            int64\n",
              "Exited               int64\n",
              "dtype: object"
            ]
          },
          "metadata": {},
          "execution_count": 9
        }
      ],
      "source": [
        "Dataset.dtypes"
      ]
    },
    {
      "cell_type": "markdown",
      "metadata": {
        "id": "Tr0hQLECTs7B"
      },
      "source": [
        "* Dari pengecekan tipe data diatas menggunakan dtypes, diketahui bahwa terdapat kolom dengan tipe data object, tipe data object tersebut harus diubah terlebih dahulu menjadi categorical data supaya pada saat di label encoder tidak ada masalah"
      ]
    },
    {
      "cell_type": "code",
      "execution_count": 10,
      "metadata": {
        "id": "vQYz_qLVzjh9",
        "colab": {
          "base_uri": "https://localhost:8080/",
          "height": 49
        },
        "outputId": "a0554a93-4265-4d94-e2fb-126adcdee43d"
      },
      "outputs": [
        {
          "output_type": "execute_result",
          "data": {
            "text/plain": [
              "Empty DataFrame\n",
              "Columns: [CustomerId, Gender, Age, CreditScore, EstimatedSalary, HasCrCard, Exited]\n",
              "Index: []"
            ],
            "text/html": [
              "\n",
              "  <div id=\"df-c9d0ee72-b1db-418d-9447-dbf072461e2c\">\n",
              "    <div class=\"colab-df-container\">\n",
              "      <div>\n",
              "<style scoped>\n",
              "    .dataframe tbody tr th:only-of-type {\n",
              "        vertical-align: middle;\n",
              "    }\n",
              "\n",
              "    .dataframe tbody tr th {\n",
              "        vertical-align: top;\n",
              "    }\n",
              "\n",
              "    .dataframe thead th {\n",
              "        text-align: right;\n",
              "    }\n",
              "</style>\n",
              "<table border=\"1\" class=\"dataframe\">\n",
              "  <thead>\n",
              "    <tr style=\"text-align: right;\">\n",
              "      <th></th>\n",
              "      <th>CustomerId</th>\n",
              "      <th>Gender</th>\n",
              "      <th>Age</th>\n",
              "      <th>CreditScore</th>\n",
              "      <th>EstimatedSalary</th>\n",
              "      <th>HasCrCard</th>\n",
              "      <th>Exited</th>\n",
              "    </tr>\n",
              "  </thead>\n",
              "  <tbody>\n",
              "  </tbody>\n",
              "</table>\n",
              "</div>\n",
              "      <button class=\"colab-df-convert\" onclick=\"convertToInteractive('df-c9d0ee72-b1db-418d-9447-dbf072461e2c')\"\n",
              "              title=\"Convert this dataframe to an interactive table.\"\n",
              "              style=\"display:none;\">\n",
              "        \n",
              "  <svg xmlns=\"http://www.w3.org/2000/svg\" height=\"24px\"viewBox=\"0 0 24 24\"\n",
              "       width=\"24px\">\n",
              "    <path d=\"M0 0h24v24H0V0z\" fill=\"none\"/>\n",
              "    <path d=\"M18.56 5.44l.94 2.06.94-2.06 2.06-.94-2.06-.94-.94-2.06-.94 2.06-2.06.94zm-11 1L8.5 8.5l.94-2.06 2.06-.94-2.06-.94L8.5 2.5l-.94 2.06-2.06.94zm10 10l.94 2.06.94-2.06 2.06-.94-2.06-.94-.94-2.06-.94 2.06-2.06.94z\"/><path d=\"M17.41 7.96l-1.37-1.37c-.4-.4-.92-.59-1.43-.59-.52 0-1.04.2-1.43.59L10.3 9.45l-7.72 7.72c-.78.78-.78 2.05 0 2.83L4 21.41c.39.39.9.59 1.41.59.51 0 1.02-.2 1.41-.59l7.78-7.78 2.81-2.81c.8-.78.8-2.07 0-2.86zM5.41 20L4 18.59l7.72-7.72 1.47 1.35L5.41 20z\"/>\n",
              "  </svg>\n",
              "      </button>\n",
              "      \n",
              "  <style>\n",
              "    .colab-df-container {\n",
              "      display:flex;\n",
              "      flex-wrap:wrap;\n",
              "      gap: 12px;\n",
              "    }\n",
              "\n",
              "    .colab-df-convert {\n",
              "      background-color: #E8F0FE;\n",
              "      border: none;\n",
              "      border-radius: 50%;\n",
              "      cursor: pointer;\n",
              "      display: none;\n",
              "      fill: #1967D2;\n",
              "      height: 32px;\n",
              "      padding: 0 0 0 0;\n",
              "      width: 32px;\n",
              "    }\n",
              "\n",
              "    .colab-df-convert:hover {\n",
              "      background-color: #E2EBFA;\n",
              "      box-shadow: 0px 1px 2px rgba(60, 64, 67, 0.3), 0px 1px 3px 1px rgba(60, 64, 67, 0.15);\n",
              "      fill: #174EA6;\n",
              "    }\n",
              "\n",
              "    [theme=dark] .colab-df-convert {\n",
              "      background-color: #3B4455;\n",
              "      fill: #D2E3FC;\n",
              "    }\n",
              "\n",
              "    [theme=dark] .colab-df-convert:hover {\n",
              "      background-color: #434B5C;\n",
              "      box-shadow: 0px 1px 3px 1px rgba(0, 0, 0, 0.15);\n",
              "      filter: drop-shadow(0px 1px 2px rgba(0, 0, 0, 0.3));\n",
              "      fill: #FFFFFF;\n",
              "    }\n",
              "  </style>\n",
              "\n",
              "      <script>\n",
              "        const buttonEl =\n",
              "          document.querySelector('#df-c9d0ee72-b1db-418d-9447-dbf072461e2c button.colab-df-convert');\n",
              "        buttonEl.style.display =\n",
              "          google.colab.kernel.accessAllowed ? 'block' : 'none';\n",
              "\n",
              "        async function convertToInteractive(key) {\n",
              "          const element = document.querySelector('#df-c9d0ee72-b1db-418d-9447-dbf072461e2c');\n",
              "          const dataTable =\n",
              "            await google.colab.kernel.invokeFunction('convertToInteractive',\n",
              "                                                     [key], {});\n",
              "          if (!dataTable) return;\n",
              "\n",
              "          const docLinkHtml = 'Like what you see? Visit the ' +\n",
              "            '<a target=\"_blank\" href=https://colab.research.google.com/notebooks/data_table.ipynb>data table notebook</a>'\n",
              "            + ' to learn more about interactive tables.';\n",
              "          element.innerHTML = '';\n",
              "          dataTable['output_type'] = 'display_data';\n",
              "          await google.colab.output.renderOutput(dataTable, element);\n",
              "          const docLink = document.createElement('div');\n",
              "          docLink.innerHTML = docLinkHtml;\n",
              "          element.appendChild(docLink);\n",
              "        }\n",
              "      </script>\n",
              "    </div>\n",
              "  </div>\n",
              "  "
            ]
          },
          "metadata": {},
          "execution_count": 10
        }
      ],
      "source": [
        "# Cek Data Duplikat\n",
        "Dataset[Dataset.duplicated(keep=False)]"
      ]
    },
    {
      "cell_type": "code",
      "execution_count": 11,
      "metadata": {
        "id": "ST9NXr9MQ01w",
        "colab": {
          "base_uri": "https://localhost:8080/",
          "height": 175
        },
        "outputId": "70f6221e-3fcd-4a74-e150-01be192c1b0d"
      },
      "outputs": [
        {
          "output_type": "execute_result",
          "data": {
            "text/plain": [
              "       Gender\n",
              "count   10000\n",
              "unique      2\n",
              "top      Male\n",
              "freq     5457"
            ],
            "text/html": [
              "\n",
              "  <div id=\"df-53179833-e00c-4f5c-8fa0-9ae1ae1d368c\">\n",
              "    <div class=\"colab-df-container\">\n",
              "      <div>\n",
              "<style scoped>\n",
              "    .dataframe tbody tr th:only-of-type {\n",
              "        vertical-align: middle;\n",
              "    }\n",
              "\n",
              "    .dataframe tbody tr th {\n",
              "        vertical-align: top;\n",
              "    }\n",
              "\n",
              "    .dataframe thead th {\n",
              "        text-align: right;\n",
              "    }\n",
              "</style>\n",
              "<table border=\"1\" class=\"dataframe\">\n",
              "  <thead>\n",
              "    <tr style=\"text-align: right;\">\n",
              "      <th></th>\n",
              "      <th>Gender</th>\n",
              "    </tr>\n",
              "  </thead>\n",
              "  <tbody>\n",
              "    <tr>\n",
              "      <th>count</th>\n",
              "      <td>10000</td>\n",
              "    </tr>\n",
              "    <tr>\n",
              "      <th>unique</th>\n",
              "      <td>2</td>\n",
              "    </tr>\n",
              "    <tr>\n",
              "      <th>top</th>\n",
              "      <td>Male</td>\n",
              "    </tr>\n",
              "    <tr>\n",
              "      <th>freq</th>\n",
              "      <td>5457</td>\n",
              "    </tr>\n",
              "  </tbody>\n",
              "</table>\n",
              "</div>\n",
              "      <button class=\"colab-df-convert\" onclick=\"convertToInteractive('df-53179833-e00c-4f5c-8fa0-9ae1ae1d368c')\"\n",
              "              title=\"Convert this dataframe to an interactive table.\"\n",
              "              style=\"display:none;\">\n",
              "        \n",
              "  <svg xmlns=\"http://www.w3.org/2000/svg\" height=\"24px\"viewBox=\"0 0 24 24\"\n",
              "       width=\"24px\">\n",
              "    <path d=\"M0 0h24v24H0V0z\" fill=\"none\"/>\n",
              "    <path d=\"M18.56 5.44l.94 2.06.94-2.06 2.06-.94-2.06-.94-.94-2.06-.94 2.06-2.06.94zm-11 1L8.5 8.5l.94-2.06 2.06-.94-2.06-.94L8.5 2.5l-.94 2.06-2.06.94zm10 10l.94 2.06.94-2.06 2.06-.94-2.06-.94-.94-2.06-.94 2.06-2.06.94z\"/><path d=\"M17.41 7.96l-1.37-1.37c-.4-.4-.92-.59-1.43-.59-.52 0-1.04.2-1.43.59L10.3 9.45l-7.72 7.72c-.78.78-.78 2.05 0 2.83L4 21.41c.39.39.9.59 1.41.59.51 0 1.02-.2 1.41-.59l7.78-7.78 2.81-2.81c.8-.78.8-2.07 0-2.86zM5.41 20L4 18.59l7.72-7.72 1.47 1.35L5.41 20z\"/>\n",
              "  </svg>\n",
              "      </button>\n",
              "      \n",
              "  <style>\n",
              "    .colab-df-container {\n",
              "      display:flex;\n",
              "      flex-wrap:wrap;\n",
              "      gap: 12px;\n",
              "    }\n",
              "\n",
              "    .colab-df-convert {\n",
              "      background-color: #E8F0FE;\n",
              "      border: none;\n",
              "      border-radius: 50%;\n",
              "      cursor: pointer;\n",
              "      display: none;\n",
              "      fill: #1967D2;\n",
              "      height: 32px;\n",
              "      padding: 0 0 0 0;\n",
              "      width: 32px;\n",
              "    }\n",
              "\n",
              "    .colab-df-convert:hover {\n",
              "      background-color: #E2EBFA;\n",
              "      box-shadow: 0px 1px 2px rgba(60, 64, 67, 0.3), 0px 1px 3px 1px rgba(60, 64, 67, 0.15);\n",
              "      fill: #174EA6;\n",
              "    }\n",
              "\n",
              "    [theme=dark] .colab-df-convert {\n",
              "      background-color: #3B4455;\n",
              "      fill: #D2E3FC;\n",
              "    }\n",
              "\n",
              "    [theme=dark] .colab-df-convert:hover {\n",
              "      background-color: #434B5C;\n",
              "      box-shadow: 0px 1px 3px 1px rgba(0, 0, 0, 0.15);\n",
              "      filter: drop-shadow(0px 1px 2px rgba(0, 0, 0, 0.3));\n",
              "      fill: #FFFFFF;\n",
              "    }\n",
              "  </style>\n",
              "\n",
              "      <script>\n",
              "        const buttonEl =\n",
              "          document.querySelector('#df-53179833-e00c-4f5c-8fa0-9ae1ae1d368c button.colab-df-convert');\n",
              "        buttonEl.style.display =\n",
              "          google.colab.kernel.accessAllowed ? 'block' : 'none';\n",
              "\n",
              "        async function convertToInteractive(key) {\n",
              "          const element = document.querySelector('#df-53179833-e00c-4f5c-8fa0-9ae1ae1d368c');\n",
              "          const dataTable =\n",
              "            await google.colab.kernel.invokeFunction('convertToInteractive',\n",
              "                                                     [key], {});\n",
              "          if (!dataTable) return;\n",
              "\n",
              "          const docLinkHtml = 'Like what you see? Visit the ' +\n",
              "            '<a target=\"_blank\" href=https://colab.research.google.com/notebooks/data_table.ipynb>data table notebook</a>'\n",
              "            + ' to learn more about interactive tables.';\n",
              "          element.innerHTML = '';\n",
              "          dataTable['output_type'] = 'display_data';\n",
              "          await google.colab.output.renderOutput(dataTable, element);\n",
              "          const docLink = document.createElement('div');\n",
              "          docLink.innerHTML = docLinkHtml;\n",
              "          element.appendChild(docLink);\n",
              "        }\n",
              "      </script>\n",
              "    </div>\n",
              "  </div>\n",
              "  "
            ]
          },
          "metadata": {},
          "execution_count": 11
        }
      ],
      "source": [
        "#Statistika Deskriptif Data Kategorial\n",
        "Dataset.describe(include=[\"object\"])"
      ]
    },
    {
      "cell_type": "code",
      "execution_count": 12,
      "metadata": {
        "id": "vIUCuPQQIOOo",
        "colab": {
          "base_uri": "https://localhost:8080/"
        },
        "outputId": "34532b35-e3aa-4cac-8832-701a523e089f"
      },
      "outputs": [
        {
          "output_type": "execute_result",
          "data": {
            "text/plain": [
              "Counter({1: 2037, 0: 7963})"
            ]
          },
          "metadata": {},
          "execution_count": 12
        }
      ],
      "source": [
        "# Untuk mengecek apakah data balance atau tidak\n",
        "Counter(Dataset[\"Exited\"])"
      ]
    },
    {
      "cell_type": "markdown",
      "metadata": {
        "id": "94L96-hXPiQJ"
      },
      "source": [
        "Dari grafik dan keterangan diatas, dapat dilihat bahwa fitur target memiliki jumlah yang tidak seimbang, dalam hal ini disebut \"Imbalance Data\". Sehingga nantinya, saat di tahap pre-processing data, data target perlu di handling dengan Random Over Sampling"
      ]
    },
    {
      "cell_type": "markdown",
      "metadata": {
        "id": "Bp1Cuar9WzsB"
      },
      "source": [
        "## Visualisasi Section"
      ]
    },
    {
      "cell_type": "code",
      "execution_count": 13,
      "metadata": {
        "id": "NPldGGxQW7IY"
      },
      "outputs": [],
      "source": [
        "# # ax = sns.lmplot(x ='Gender', data=Dataset, hue='HasCrCard', palette='pink')\n",
        "# ax = sns.lmplot(x = 'Gender', y = 'Exited', data=Dataset, hue='HasCrCard', palette='Set1')"
      ]
    },
    {
      "cell_type": "code",
      "execution_count": 14,
      "metadata": {
        "id": "p3WYBsMIo_zR",
        "colab": {
          "base_uri": "https://localhost:8080/",
          "height": 303
        },
        "outputId": "6edb9576-ebd1-4450-b521-7dcff5e65c73"
      },
      "outputs": [
        {
          "output_type": "display_data",
          "data": {
            "text/plain": [
              "<Figure size 360x360 with 1 Axes>"
            ],
            "image/png": "[encoded data removed]"
          },
          "metadata": {}
        }
      ],
      "source": [
        "#memvisualisasi persentase Churn pada dataset \n",
        "f, ax = plt.subplots(figsize=(5,5)) \n",
        "labels = ['Retained','Exited'] \n",
        "churn = Dataset.Exited.value_counts() \n",
        "ax.pie(churn, labels=labels, autopct='%.0f%%') \n",
        "plt.show()"
      ]
    },
    {
      "cell_type": "markdown",
      "metadata": {
        "id": "IN4KkfGeAxDv"
      },
      "source": [
        "Memvisualisasikan prediksi pelanggan yang meninggalkan produk layanan berlangganan dari sebuah perusahaan. Dari grafik pie diatas, dapat disimpulkan bahwa terdapat masalah data yang tidak seimbang. \n",
        "* Churn: No – 80%\n",
        "* Churn: Yes – 20%"
      ]
    },
    {
      "cell_type": "code",
      "execution_count": 15,
      "metadata": {
        "id": "ogHb_90epPQN",
        "colab": {
          "base_uri": "https://localhost:8080/",
          "height": 350
        },
        "outputId": "8e713438-e724-4779-aad9-bdc2a3ea1f82"
      },
      "outputs": [
        {
          "output_type": "display_data",
          "data": {
            "text/plain": [
              "<Figure size 720x360 with 1 Axes>"
            ],
            "image/png": "[encoded data removed]"
          },
          "metadata": {
            "needs_background": "light"
          }
        }
      ],
      "source": [
        "f, ax = plt.subplots(1, figsize=(10,5))\n",
        "sns.countplot(x='Gender', hue='Exited', data=Dataset)\n",
        "plt.title('Churn Rate by Gender')\n",
        "plt.show()"
      ]
    },
    {
      "cell_type": "markdown",
      "metadata": {
        "id": "5DP8bgxEG5w6"
      },
      "source": [
        "Dari grafik diatas dapat dilihat bahwa fitur 'Gender' memiliki distribusi churn yang tidak seimbang, dimana terdapat perbedaan churn 'No' yang lebih tinggi pada Pria dan churn 'Yes' pada Wanita. Selain itu, dapat disimpulkan juga bahwa tingkat churn 'Yes' pada wanita lebih tinggi dibandingkan tingkat churn 'Yes' pada Pria, artinya kelompok pelanggan wanita memiliki kecenderungan untuk meninggalkan layanan berlangganan produk perusahaan"
      ]
    },
    {
      "cell_type": "code",
      "execution_count": 16,
      "metadata": {
        "id": "9363RvbMEiJT",
        "colab": {
          "base_uri": "https://localhost:8080/",
          "height": 350
        },
        "outputId": "eb23f43a-3b29-4e3e-826e-d58486a503d3"
      },
      "outputs": [
        {
          "output_type": "display_data",
          "data": {
            "text/plain": [
              "<Figure size 720x360 with 1 Axes>"
            ],
            "image/png": "[encoded data removed]"
          },
          "metadata": {
            "needs_background": "light"
          }
        }
      ],
      "source": [
        "f, ax = plt.subplots(1, figsize=(10,5))\n",
        "sns.countplot(x='HasCrCard', hue='Exited', data=Dataset)\n",
        "plt.title('Churn Rate by Credit Card Ownership')\n",
        "plt.show()"
      ]
    },
    {
      "cell_type": "markdown",
      "metadata": {
        "id": "u3wjql4BIZ1h"
      },
      "source": [
        "Dari Grafik diatas dapat disimpulkan bahwa fitur 'HasCrCard' memiliki distribusi churn yang tidak seimbang, dimana terdapat perbedaan churn 'No' dan 'Yes'yang lebih tinggi pada kelompok yang memiliki Kartu Kredit. Dapat disimpulkan juga bahwa kelompok pelanggan yang memiliki kartu kredit memiliki tingkat Churn 'Yes' yang lebih tinggi dibandingkan kelompok pelanggan yang tidak memiliki kartu kredit"
      ]
    },
    {
      "cell_type": "code",
      "execution_count": 67,
      "metadata": {
        "id": "L1WVonw9pZai",
        "colab": {
          "base_uri": "https://localhost:8080/",
          "height": 334
        },
        "outputId": "7de52cd5-b19a-403d-f952-fbb56d07a026"
      },
      "outputs": [
        {
          "output_type": "display_data",
          "data": {
            "text/plain": [
              "<Figure size 1080x360 with 3 Axes>"
            ],
            "image/png": "[encoded data removed]"
          },
          "metadata": {
            "needs_background": "light"
          }
        }
      ],
      "source": [
        "f, ax = plt.subplots(1, 3, figsize=(15,5))\n",
        "sns.boxplot(x='Exited', y='CreditScore', hue='Exited', data=Dataset, ax=ax[0])\n",
        "sns.boxplot(x='Exited', y='Age', hue='Exited', data=Dataset, ax=ax[1])\n",
        "sns.boxplot(x='Exited', y='EstimatedSalary', hue='Exited', data=Dataset, ax=ax[2])\n",
        "plt.show()"
      ]
    },
    {
      "cell_type": "markdown",
      "source": [
        "Fitur Numerikal dicoba untuk dibuat data kategorikal"
      ],
      "metadata": {
        "id": "l5aJvp6Mw4M7"
      }
    },
    {
      "cell_type": "markdown",
      "metadata": {
        "id": "GYLgLFfRpfHS"
      },
      "source": [
        "Interpretasi diagram diatas (Alivia)"
      ]
    },
    {
      "cell_type": "code",
      "execution_count": 18,
      "metadata": {
        "id": "ILKqYf70cYzi",
        "colab": {
          "base_uri": "https://localhost:8080/",
          "height": 238
        },
        "outputId": "3a47173a-1934-466d-dc91-943fb304bbe2"
      },
      "outputs": [
        {
          "output_type": "execute_result",
          "data": {
            "text/plain": [
              "                 CustomerId       Age  CreditScore  EstimatedSalary  \\\n",
              "CustomerId         1.000000  0.009497     0.005308         0.015271   \n",
              "Age                0.009497  1.000000    -0.003965        -0.007201   \n",
              "CreditScore        0.005308 -0.003965     1.000000        -0.001384   \n",
              "EstimatedSalary    0.015271 -0.007201    -0.001384         1.000000   \n",
              "HasCrCard         -0.014025 -0.011721    -0.005458        -0.009933   \n",
              "Exited            -0.006248  0.285323    -0.027094         0.012097   \n",
              "\n",
              "                 HasCrCard    Exited  \n",
              "CustomerId       -0.014025 -0.006248  \n",
              "Age              -0.011721  0.285323  \n",
              "CreditScore      -0.005458 -0.027094  \n",
              "EstimatedSalary  -0.009933  0.012097  \n",
              "HasCrCard         1.000000 -0.007138  \n",
              "Exited           -0.007138  1.000000  "
            ],
            "text/html": [
              "\n",
              "  <div id=\"df-1271bc1a-5130-4c4d-a886-71551b254e1b\">\n",
              "    <div class=\"colab-df-container\">\n",
              "      <div>\n",
              "<style scoped>\n",
              "    .dataframe tbody tr th:only-of-type {\n",
              "        vertical-align: middle;\n",
              "    }\n",
              "\n",
              "    .dataframe tbody tr th {\n",
              "        vertical-align: top;\n",
              "    }\n",
              "\n",
              "    .dataframe thead th {\n",
              "        text-align: right;\n",
              "    }\n",
              "</style>\n",
              "<table border=\"1\" class=\"dataframe\">\n",
              "  <thead>\n",
              "    <tr style=\"text-align: right;\">\n",
              "      <th></th>\n",
              "      <th>CustomerId</th>\n",
              "      <th>Age</th>\n",
              "      <th>CreditScore</th>\n",
              "      <th>EstimatedSalary</th>\n",
              "      <th>HasCrCard</th>\n",
              "      <th>Exited</th>\n",
              "    </tr>\n",
              "  </thead>\n",
              "  <tbody>\n",
              "    <tr>\n",
              "      <th>CustomerId</th>\n",
              "      <td>1.000000</td>\n",
              "      <td>0.009497</td>\n",
              "      <td>0.005308</td>\n",
              "      <td>0.015271</td>\n",
              "      <td>-0.014025</td>\n",
              "      <td>-0.006248</td>\n",
              "    </tr>\n",
              "    <tr>\n",
              "      <th>Age</th>\n",
              "      <td>0.009497</td>\n",
              "      <td>1.000000</td>\n",
              "      <td>-0.003965</td>\n",
              "      <td>-0.007201</td>\n",
              "      <td>-0.011721</td>\n",
              "      <td>0.285323</td>\n",
              "    </tr>\n",
              "    <tr>\n",
              "      <th>CreditScore</th>\n",
              "      <td>0.005308</td>\n",
              "      <td>-0.003965</td>\n",
              "      <td>1.000000</td>\n",
              "      <td>-0.001384</td>\n",
              "      <td>-0.005458</td>\n",
              "      <td>-0.027094</td>\n",
              "    </tr>\n",
              "    <tr>\n",
              "      <th>EstimatedSalary</th>\n",
              "      <td>0.015271</td>\n",
              "      <td>-0.007201</td>\n",
              "      <td>-0.001384</td>\n",
              "      <td>1.000000</td>\n",
              "      <td>-0.009933</td>\n",
              "      <td>0.012097</td>\n",
              "    </tr>\n",
              "    <tr>\n",
              "      <th>HasCrCard</th>\n",
              "      <td>-0.014025</td>\n",
              "      <td>-0.011721</td>\n",
              "      <td>-0.005458</td>\n",
              "      <td>-0.009933</td>\n",
              "      <td>1.000000</td>\n",
              "      <td>-0.007138</td>\n",
              "    </tr>\n",
              "    <tr>\n",
              "      <th>Exited</th>\n",
              "      <td>-0.006248</td>\n",
              "      <td>0.285323</td>\n",
              "      <td>-0.027094</td>\n",
              "      <td>0.012097</td>\n",
              "      <td>-0.007138</td>\n",
              "      <td>1.000000</td>\n",
              "    </tr>\n",
              "  </tbody>\n",
              "</table>\n",
              "</div>\n",
              "      <button class=\"colab-df-convert\" onclick=\"convertToInteractive('df-1271bc1a-5130-4c4d-a886-71551b254e1b')\"\n",
              "              title=\"Convert this dataframe to an interactive table.\"\n",
              "              style=\"display:none;\">\n",
              "        \n",
              "  <svg xmlns=\"http://www.w3.org/2000/svg\" height=\"24px\"viewBox=\"0 0 24 24\"\n",
              "       width=\"24px\">\n",
              "    <path d=\"M0 0h24v24H0V0z\" fill=\"none\"/>\n",
              "    <path d=\"M18.56 5.44l.94 2.06.94-2.06 2.06-.94-2.06-.94-.94-2.06-.94 2.06-2.06.94zm-11 1L8.5 8.5l.94-2.06 2.06-.94-2.06-.94L8.5 2.5l-.94 2.06-2.06.94zm10 10l.94 2.06.94-2.06 2.06-.94-2.06-.94-.94-2.06-.94 2.06-2.06.94z\"/><path d=\"M17.41 7.96l-1.37-1.37c-.4-.4-.92-.59-1.43-.59-.52 0-1.04.2-1.43.59L10.3 9.45l-7.72 7.72c-.78.78-.78 2.05 0 2.83L4 21.41c.39.39.9.59 1.41.59.51 0 1.02-.2 1.41-.59l7.78-7.78 2.81-2.81c.8-.78.8-2.07 0-2.86zM5.41 20L4 18.59l7.72-7.72 1.47 1.35L5.41 20z\"/>\n",
              "  </svg>\n",
              "      </button>\n",
              "      \n",
              "  <style>\n",
              "    .colab-df-container {\n",
              "      display:flex;\n",
              "      flex-wrap:wrap;\n",
              "      gap: 12px;\n",
              "    }\n",
              "\n",
              "    .colab-df-convert {\n",
              "      background-color: #E8F0FE;\n",
              "      border: none;\n",
              "      border-radius: 50%;\n",
              "      cursor: pointer;\n",
              "      display: none;\n",
              "      fill: #1967D2;\n",
              "      height: 32px;\n",
              "      padding: 0 0 0 0;\n",
              "      width: 32px;\n",
              "    }\n",
              "\n",
              "    .colab-df-convert:hover {\n",
              "      background-color: #E2EBFA;\n",
              "      box-shadow: 0px 1px 2px rgba(60, 64, 67, 0.3), 0px 1px 3px 1px rgba(60, 64, 67, 0.15);\n",
              "      fill: #174EA6;\n",
              "    }\n",
              "\n",
              "    [theme=dark] .colab-df-convert {\n",
              "      background-color: #3B4455;\n",
              "      fill: #D2E3FC;\n",
              "    }\n",
              "\n",
              "    [theme=dark] .colab-df-convert:hover {\n",
              "      background-color: #434B5C;\n",
              "      box-shadow: 0px 1px 3px 1px rgba(0, 0, 0, 0.15);\n",
              "      filter: drop-shadow(0px 1px 2px rgba(0, 0, 0, 0.3));\n",
              "      fill: #FFFFFF;\n",
              "    }\n",
              "  </style>\n",
              "\n",
              "      <script>\n",
              "        const buttonEl =\n",
              "          document.querySelector('#df-1271bc1a-5130-4c4d-a886-71551b254e1b button.colab-df-convert');\n",
              "        buttonEl.style.display =\n",
              "          google.colab.kernel.accessAllowed ? 'block' : 'none';\n",
              "\n",
              "        async function convertToInteractive(key) {\n",
              "          const element = document.querySelector('#df-1271bc1a-5130-4c4d-a886-71551b254e1b');\n",
              "          const dataTable =\n",
              "            await google.colab.kernel.invokeFunction('convertToInteractive',\n",
              "                                                     [key], {});\n",
              "          if (!dataTable) return;\n",
              "\n",
              "          const docLinkHtml = 'Like what you see? Visit the ' +\n",
              "            '<a target=\"_blank\" href=https://colab.research.google.com/notebooks/data_table.ipynb>data table notebook</a>'\n",
              "            + ' to learn more about interactive tables.';\n",
              "          element.innerHTML = '';\n",
              "          dataTable['output_type'] = 'display_data';\n",
              "          await google.colab.output.renderOutput(dataTable, element);\n",
              "          const docLink = document.createElement('div');\n",
              "          docLink.innerHTML = docLinkHtml;\n",
              "          element.appendChild(docLink);\n",
              "        }\n",
              "      </script>\n",
              "    </div>\n",
              "  </div>\n",
              "  "
            ]
          },
          "metadata": {},
          "execution_count": 18
        }
      ],
      "source": [
        "PetaKorelasi = Dataset.corr()\n",
        "PetaKorelasi"
      ]
    },
    {
      "cell_type": "markdown",
      "metadata": {
        "id": "PBJsRWCfo62q"
      },
      "source": [
        "**Note: Korelasi >=0.5 baik + atau minus, ada hubungan erat antara variabel**\n",
        "**Korelasi <0.5 baik + atau minus, tidak ada hubungan erat antar variabel**"
      ]
    },
    {
      "cell_type": "markdown",
      "metadata": {
        "id": "mivMOCduRtWq"
      },
      "source": [
        "Dari analisis korelasi dapat diketahui bahwa ..... mempengaruhi Variabel Exited."
      ]
    },
    {
      "cell_type": "markdown",
      "source": [
        "Heatmap = Pearseon, cocok untuk kasus regresi"
      ],
      "metadata": {
        "id": "m0rZqXGmyLSQ"
      }
    },
    {
      "cell_type": "markdown",
      "source": [
        "Kasus Klasifikasi menggunakan tes korelasi Chi-Square, untuk kasus ini coba pake chi square"
      ],
      "metadata": {
        "id": "-VBqWKnNyQ4K"
      }
    },
    {
      "cell_type": "code",
      "execution_count": 19,
      "metadata": {
        "id": "5iXp576Gcfvx",
        "colab": {
          "base_uri": "https://localhost:8080/",
          "height": 487
        },
        "outputId": "6c0ed097-78c8-47a8-ba2d-a23132517629"
      },
      "outputs": [
        {
          "output_type": "display_data",
          "data": {
            "text/plain": [
              "<Figure size 720x576 with 2 Axes>"
            ],
            "image/png": "[encoded data removed]"
          },
          "metadata": {
            "needs_background": "light"
          }
        }
      ],
      "source": [
        "\n",
        "plt.figure(figsize=(10,8))\n",
        "sns.heatmap(PetaKorelasi, annot=True, cmap= 'viridis')\n",
        "plt.show()"
      ]
    },
    {
      "cell_type": "markdown",
      "source": [
        "# **Feature Engineering**"
      ],
      "metadata": {
        "id": "g7oowrlvDzv4"
      }
    },
    {
      "cell_type": "code",
      "source": [
        "Dataset.head()"
      ],
      "metadata": {
        "colab": {
          "base_uri": "https://localhost:8080/",
          "height": 206
        },
        "id": "iqxLYFfXD7uc",
        "outputId": "04843220-82c2-43c4-9f64-9274e8a4f53c"
      },
      "execution_count": 20,
      "outputs": [
        {
          "output_type": "execute_result",
          "data": {
            "text/plain": [
              "   CustomerId  Gender  Age  CreditScore  EstimatedSalary  HasCrCard  Exited\n",
              "0    15634602  Female   42          619        101348.88          1       1\n",
              "1    15647311  Female   41          608        112542.58          0       0\n",
              "2    15619304  Female   42          502        113931.57          1       1\n",
              "3    15701354  Female   39          699         93826.63          0       0\n",
              "4    15737888  Female   43          850         79084.10          1       0"
            ],
            "text/html": [
              "\n",
              "  <div id=\"df-75a07e21-af12-497d-9030-7a02010a924c\">\n",
              "    <div class=\"colab-df-container\">\n",
              "      <div>\n",
              "<style scoped>\n",
              "    .dataframe tbody tr th:only-of-type {\n",
              "        vertical-align: middle;\n",
              "    }\n",
              "\n",
              "    .dataframe tbody tr th {\n",
              "        vertical-align: top;\n",
              "    }\n",
              "\n",
              "    .dataframe thead th {\n",
              "        text-align: right;\n",
              "    }\n",
              "</style>\n",
              "<table border=\"1\" class=\"dataframe\">\n",
              "  <thead>\n",
              "    <tr style=\"text-align: right;\">\n",
              "      <th></th>\n",
              "      <th>CustomerId</th>\n",
              "      <th>Gender</th>\n",
              "      <th>Age</th>\n",
              "      <th>CreditScore</th>\n",
              "      <th>EstimatedSalary</th>\n",
              "      <th>HasCrCard</th>\n",
              "      <th>Exited</th>\n",
              "    </tr>\n",
              "  </thead>\n",
              "  <tbody>\n",
              "    <tr>\n",
              "      <th>0</th>\n",
              "      <td>15634602</td>\n",
              "      <td>Female</td>\n",
              "      <td>42</td>\n",
              "      <td>619</td>\n",
              "      <td>101348.88</td>\n",
              "      <td>1</td>\n",
              "      <td>1</td>\n",
              "    </tr>\n",
              "    <tr>\n",
              "      <th>1</th>\n",
              "      <td>15647311</td>\n",
              "      <td>Female</td>\n",
              "      <td>41</td>\n",
              "      <td>608</td>\n",
              "      <td>112542.58</td>\n",
              "      <td>0</td>\n",
              "      <td>0</td>\n",
              "    </tr>\n",
              "    <tr>\n",
              "      <th>2</th>\n",
              "      <td>15619304</td>\n",
              "      <td>Female</td>\n",
              "      <td>42</td>\n",
              "      <td>502</td>\n",
              "      <td>113931.57</td>\n",
              "      <td>1</td>\n",
              "      <td>1</td>\n",
              "    </tr>\n",
              "    <tr>\n",
              "      <th>3</th>\n",
              "      <td>15701354</td>\n",
              "      <td>Female</td>\n",
              "      <td>39</td>\n",
              "      <td>699</td>\n",
              "      <td>93826.63</td>\n",
              "      <td>0</td>\n",
              "      <td>0</td>\n",
              "    </tr>\n",
              "    <tr>\n",
              "      <th>4</th>\n",
              "      <td>15737888</td>\n",
              "      <td>Female</td>\n",
              "      <td>43</td>\n",
              "      <td>850</td>\n",
              "      <td>79084.10</td>\n",
              "      <td>1</td>\n",
              "      <td>0</td>\n",
              "    </tr>\n",
              "  </tbody>\n",
              "</table>\n",
              "</div>\n",
              "      <button class=\"colab-df-convert\" onclick=\"convertToInteractive('df-75a07e21-af12-497d-9030-7a02010a924c')\"\n",
              "              title=\"Convert this dataframe to an interactive table.\"\n",
              "              style=\"display:none;\">\n",
              "        \n",
              "  <svg xmlns=\"http://www.w3.org/2000/svg\" height=\"24px\"viewBox=\"0 0 24 24\"\n",
              "       width=\"24px\">\n",
              "    <path d=\"M0 0h24v24H0V0z\" fill=\"none\"/>\n",
              "    <path d=\"M18.56 5.44l.94 2.06.94-2.06 2.06-.94-2.06-.94-.94-2.06-.94 2.06-2.06.94zm-11 1L8.5 8.5l.94-2.06 2.06-.94-2.06-.94L8.5 2.5l-.94 2.06-2.06.94zm10 10l.94 2.06.94-2.06 2.06-.94-2.06-.94-.94-2.06-.94 2.06-2.06.94z\"/><path d=\"M17.41 7.96l-1.37-1.37c-.4-.4-.92-.59-1.43-.59-.52 0-1.04.2-1.43.59L10.3 9.45l-7.72 7.72c-.78.78-.78 2.05 0 2.83L4 21.41c.39.39.9.59 1.41.59.51 0 1.02-.2 1.41-.59l7.78-7.78 2.81-2.81c.8-.78.8-2.07 0-2.86zM5.41 20L4 18.59l7.72-7.72 1.47 1.35L5.41 20z\"/>\n",
              "  </svg>\n",
              "      </button>\n",
              "      \n",
              "  <style>\n",
              "    .colab-df-container {\n",
              "      display:flex;\n",
              "      flex-wrap:wrap;\n",
              "      gap: 12px;\n",
              "    }\n",
              "\n",
              "    .colab-df-convert {\n",
              "      background-color: #E8F0FE;\n",
              "      border: none;\n",
              "      border-radius: 50%;\n",
              "      cursor: pointer;\n",
              "      display: none;\n",
              "      fill: #1967D2;\n",
              "      height: 32px;\n",
              "      padding: 0 0 0 0;\n",
              "      width: 32px;\n",
              "    }\n",
              "\n",
              "    .colab-df-convert:hover {\n",
              "      background-color: #E2EBFA;\n",
              "      box-shadow: 0px 1px 2px rgba(60, 64, 67, 0.3), 0px 1px 3px 1px rgba(60, 64, 67, 0.15);\n",
              "      fill: #174EA6;\n",
              "    }\n",
              "\n",
              "    [theme=dark] .colab-df-convert {\n",
              "      background-color: #3B4455;\n",
              "      fill: #D2E3FC;\n",
              "    }\n",
              "\n",
              "    [theme=dark] .colab-df-convert:hover {\n",
              "      background-color: #434B5C;\n",
              "      box-shadow: 0px 1px 3px 1px rgba(0, 0, 0, 0.15);\n",
              "      filter: drop-shadow(0px 1px 2px rgba(0, 0, 0, 0.3));\n",
              "      fill: #FFFFFF;\n",
              "    }\n",
              "  </style>\n",
              "\n",
              "      <script>\n",
              "        const buttonEl =\n",
              "          document.querySelector('#df-75a07e21-af12-497d-9030-7a02010a924c button.colab-df-convert');\n",
              "        buttonEl.style.display =\n",
              "          google.colab.kernel.accessAllowed ? 'block' : 'none';\n",
              "\n",
              "        async function convertToInteractive(key) {\n",
              "          const element = document.querySelector('#df-75a07e21-af12-497d-9030-7a02010a924c');\n",
              "          const dataTable =\n",
              "            await google.colab.kernel.invokeFunction('convertToInteractive',\n",
              "                                                     [key], {});\n",
              "          if (!dataTable) return;\n",
              "\n",
              "          const docLinkHtml = 'Like what you see? Visit the ' +\n",
              "            '<a target=\"_blank\" href=https://colab.research.google.com/notebooks/data_table.ipynb>data table notebook</a>'\n",
              "            + ' to learn more about interactive tables.';\n",
              "          element.innerHTML = '';\n",
              "          dataTable['output_type'] = 'display_data';\n",
              "          await google.colab.output.renderOutput(dataTable, element);\n",
              "          const docLink = document.createElement('div');\n",
              "          docLink.innerHTML = docLinkHtml;\n",
              "          element.appendChild(docLink);\n",
              "        }\n",
              "      </script>\n",
              "    </div>\n",
              "  </div>\n",
              "  "
            ]
          },
          "metadata": {},
          "execution_count": 20
        }
      ]
    },
    {
      "cell_type": "code",
      "source": [
        "Dataset['CreditScoreGivenAge'] = Dataset['CreditScore'] / Dataset['Age']\n",
        "Dataset.head()"
      ],
      "metadata": {
        "colab": {
          "base_uri": "https://localhost:8080/",
          "height": 206
        },
        "id": "aKbEATrqEBD3",
        "outputId": "57ddbf02-66b1-45e8-d844-40633f0197e7"
      },
      "execution_count": 21,
      "outputs": [
        {
          "output_type": "execute_result",
          "data": {
            "text/plain": [
              "   CustomerId  Gender  Age  CreditScore  EstimatedSalary  HasCrCard  Exited  \\\n",
              "0    15634602  Female   42          619        101348.88          1       1   \n",
              "1    15647311  Female   41          608        112542.58          0       0   \n",
              "2    15619304  Female   42          502        113931.57          1       1   \n",
              "3    15701354  Female   39          699         93826.63          0       0   \n",
              "4    15737888  Female   43          850         79084.10          1       0   \n",
              "\n",
              "   CreditScoreGivenAge  \n",
              "0            14.738095  \n",
              "1            14.829268  \n",
              "2            11.952381  \n",
              "3            17.923077  \n",
              "4            19.767442  "
            ],
            "text/html": [
              "\n",
              "  <div id=\"df-4c193632-571b-431e-91af-e7db26f24d07\">\n",
              "    <div class=\"colab-df-container\">\n",
              "      <div>\n",
              "<style scoped>\n",
              "    .dataframe tbody tr th:only-of-type {\n",
              "        vertical-align: middle;\n",
              "    }\n",
              "\n",
              "    .dataframe tbody tr th {\n",
              "        vertical-align: top;\n",
              "    }\n",
              "\n",
              "    .dataframe thead th {\n",
              "        text-align: right;\n",
              "    }\n",
              "</style>\n",
              "<table border=\"1\" class=\"dataframe\">\n",
              "  <thead>\n",
              "    <tr style=\"text-align: right;\">\n",
              "      <th></th>\n",
              "      <th>CustomerId</th>\n",
              "      <th>Gender</th>\n",
              "      <th>Age</th>\n",
              "      <th>CreditScore</th>\n",
              "      <th>EstimatedSalary</th>\n",
              "      <th>HasCrCard</th>\n",
              "      <th>Exited</th>\n",
              "      <th>CreditScoreGivenAge</th>\n",
              "    </tr>\n",
              "  </thead>\n",
              "  <tbody>\n",
              "    <tr>\n",
              "      <th>0</th>\n",
              "      <td>15634602</td>\n",
              "      <td>Female</td>\n",
              "      <td>42</td>\n",
              "      <td>619</td>\n",
              "      <td>101348.88</td>\n",
              "      <td>1</td>\n",
              "      <td>1</td>\n",
              "      <td>14.738095</td>\n",
              "    </tr>\n",
              "    <tr>\n",
              "      <th>1</th>\n",
              "      <td>15647311</td>\n",
              "      <td>Female</td>\n",
              "      <td>41</td>\n",
              "      <td>608</td>\n",
              "      <td>112542.58</td>\n",
              "      <td>0</td>\n",
              "      <td>0</td>\n",
              "      <td>14.829268</td>\n",
              "    </tr>\n",
              "    <tr>\n",
              "      <th>2</th>\n",
              "      <td>15619304</td>\n",
              "      <td>Female</td>\n",
              "      <td>42</td>\n",
              "      <td>502</td>\n",
              "      <td>113931.57</td>\n",
              "      <td>1</td>\n",
              "      <td>1</td>\n",
              "      <td>11.952381</td>\n",
              "    </tr>\n",
              "    <tr>\n",
              "      <th>3</th>\n",
              "      <td>15701354</td>\n",
              "      <td>Female</td>\n",
              "      <td>39</td>\n",
              "      <td>699</td>\n",
              "      <td>93826.63</td>\n",
              "      <td>0</td>\n",
              "      <td>0</td>\n",
              "      <td>17.923077</td>\n",
              "    </tr>\n",
              "    <tr>\n",
              "      <th>4</th>\n",
              "      <td>15737888</td>\n",
              "      <td>Female</td>\n",
              "      <td>43</td>\n",
              "      <td>850</td>\n",
              "      <td>79084.10</td>\n",
              "      <td>1</td>\n",
              "      <td>0</td>\n",
              "      <td>19.767442</td>\n",
              "    </tr>\n",
              "  </tbody>\n",
              "</table>\n",
              "</div>\n",
              "      <button class=\"colab-df-convert\" onclick=\"convertToInteractive('df-4c193632-571b-431e-91af-e7db26f24d07')\"\n",
              "              title=\"Convert this dataframe to an interactive table.\"\n",
              "              style=\"display:none;\">\n",
              "        \n",
              "  <svg xmlns=\"http://www.w3.org/2000/svg\" height=\"24px\"viewBox=\"0 0 24 24\"\n",
              "       width=\"24px\">\n",
              "    <path d=\"M0 0h24v24H0V0z\" fill=\"none\"/>\n",
              "    <path d=\"M18.56 5.44l.94 2.06.94-2.06 2.06-.94-2.06-.94-.94-2.06-.94 2.06-2.06.94zm-11 1L8.5 8.5l.94-2.06 2.06-.94-2.06-.94L8.5 2.5l-.94 2.06-2.06.94zm10 10l.94 2.06.94-2.06 2.06-.94-2.06-.94-.94-2.06-.94 2.06-2.06.94z\"/><path d=\"M17.41 7.96l-1.37-1.37c-.4-.4-.92-.59-1.43-.59-.52 0-1.04.2-1.43.59L10.3 9.45l-7.72 7.72c-.78.78-.78 2.05 0 2.83L4 21.41c.39.39.9.59 1.41.59.51 0 1.02-.2 1.41-.59l7.78-7.78 2.81-2.81c.8-.78.8-2.07 0-2.86zM5.41 20L4 18.59l7.72-7.72 1.47 1.35L5.41 20z\"/>\n",
              "  </svg>\n",
              "      </button>\n",
              "      \n",
              "  <style>\n",
              "    .colab-df-container {\n",
              "      display:flex;\n",
              "      flex-wrap:wrap;\n",
              "      gap: 12px;\n",
              "    }\n",
              "\n",
              "    .colab-df-convert {\n",
              "      background-color: #E8F0FE;\n",
              "      border: none;\n",
              "      border-radius: 50%;\n",
              "      cursor: pointer;\n",
              "      display: none;\n",
              "      fill: #1967D2;\n",
              "      height: 32px;\n",
              "      padding: 0 0 0 0;\n",
              "      width: 32px;\n",
              "    }\n",
              "\n",
              "    .colab-df-convert:hover {\n",
              "      background-color: #E2EBFA;\n",
              "      box-shadow: 0px 1px 2px rgba(60, 64, 67, 0.3), 0px 1px 3px 1px rgba(60, 64, 67, 0.15);\n",
              "      fill: #174EA6;\n",
              "    }\n",
              "\n",
              "    [theme=dark] .colab-df-convert {\n",
              "      background-color: #3B4455;\n",
              "      fill: #D2E3FC;\n",
              "    }\n",
              "\n",
              "    [theme=dark] .colab-df-convert:hover {\n",
              "      background-color: #434B5C;\n",
              "      box-shadow: 0px 1px 3px 1px rgba(0, 0, 0, 0.15);\n",
              "      filter: drop-shadow(0px 1px 2px rgba(0, 0, 0, 0.3));\n",
              "      fill: #FFFFFF;\n",
              "    }\n",
              "  </style>\n",
              "\n",
              "      <script>\n",
              "        const buttonEl =\n",
              "          document.querySelector('#df-4c193632-571b-431e-91af-e7db26f24d07 button.colab-df-convert');\n",
              "        buttonEl.style.display =\n",
              "          google.colab.kernel.accessAllowed ? 'block' : 'none';\n",
              "\n",
              "        async function convertToInteractive(key) {\n",
              "          const element = document.querySelector('#df-4c193632-571b-431e-91af-e7db26f24d07');\n",
              "          const dataTable =\n",
              "            await google.colab.kernel.invokeFunction('convertToInteractive',\n",
              "                                                     [key], {});\n",
              "          if (!dataTable) return;\n",
              "\n",
              "          const docLinkHtml = 'Like what you see? Visit the ' +\n",
              "            '<a target=\"_blank\" href=https://colab.research.google.com/notebooks/data_table.ipynb>data table notebook</a>'\n",
              "            + ' to learn more about interactive tables.';\n",
              "          element.innerHTML = '';\n",
              "          dataTable['output_type'] = 'display_data';\n",
              "          await google.colab.output.renderOutput(dataTable, element);\n",
              "          const docLink = document.createElement('div');\n",
              "          docLink.innerHTML = docLinkHtml;\n",
              "          element.appendChild(docLink);\n",
              "        }\n",
              "      </script>\n",
              "    </div>\n",
              "  </div>\n",
              "  "
            ]
          },
          "metadata": {},
          "execution_count": 21
        }
      ]
    },
    {
      "cell_type": "code",
      "source": [
        "#Mengubah Urutan Kolom CreditScoreGivenAge yang awalnya berada di urutan terakhir dari dataframe, menjadi di urutan sebelum Exited\n",
        "Dataset1 = ['CustomerId', 'Gender', 'Age', 'CreditScore', 'CreditScoreGivenAge', 'EstimatedSalary',\n",
        "       'HasCrCard', 'Exited']\n",
        "Dataset = Dataset[Dataset1]"
      ],
      "metadata": {
        "id": "a57mRTLKFhT4"
      },
      "execution_count": 22,
      "outputs": []
    },
    {
      "cell_type": "code",
      "source": [
        "Dataset.head()"
      ],
      "metadata": {
        "colab": {
          "base_uri": "https://localhost:8080/",
          "height": 206
        },
        "id": "KTM8pVlsGXXL",
        "outputId": "95a25661-4016-4ded-c2cc-ab7f5499e955"
      },
      "execution_count": 23,
      "outputs": [
        {
          "output_type": "execute_result",
          "data": {
            "text/plain": [
              "   CustomerId  Gender  Age  CreditScore  CreditScoreGivenAge  EstimatedSalary  \\\n",
              "0    15634602  Female   42          619            14.738095        101348.88   \n",
              "1    15647311  Female   41          608            14.829268        112542.58   \n",
              "2    15619304  Female   42          502            11.952381        113931.57   \n",
              "3    15701354  Female   39          699            17.923077         93826.63   \n",
              "4    15737888  Female   43          850            19.767442         79084.10   \n",
              "\n",
              "   HasCrCard  Exited  \n",
              "0          1       1  \n",
              "1          0       0  \n",
              "2          1       1  \n",
              "3          0       0  \n",
              "4          1       0  "
            ],
            "text/html": [
              "\n",
              "  <div id=\"df-708b66a4-1431-4825-a7e9-17923ff33501\">\n",
              "    <div class=\"colab-df-container\">\n",
              "      <div>\n",
              "<style scoped>\n",
              "    .dataframe tbody tr th:only-of-type {\n",
              "        vertical-align: middle;\n",
              "    }\n",
              "\n",
              "    .dataframe tbody tr th {\n",
              "        vertical-align: top;\n",
              "    }\n",
              "\n",
              "    .dataframe thead th {\n",
              "        text-align: right;\n",
              "    }\n",
              "</style>\n",
              "<table border=\"1\" class=\"dataframe\">\n",
              "  <thead>\n",
              "    <tr style=\"text-align: right;\">\n",
              "      <th></th>\n",
              "      <th>CustomerId</th>\n",
              "      <th>Gender</th>\n",
              "      <th>Age</th>\n",
              "      <th>CreditScore</th>\n",
              "      <th>CreditScoreGivenAge</th>\n",
              "      <th>EstimatedSalary</th>\n",
              "      <th>HasCrCard</th>\n",
              "      <th>Exited</th>\n",
              "    </tr>\n",
              "  </thead>\n",
              "  <tbody>\n",
              "    <tr>\n",
              "      <th>0</th>\n",
              "      <td>15634602</td>\n",
              "      <td>Female</td>\n",
              "      <td>42</td>\n",
              "      <td>619</td>\n",
              "      <td>14.738095</td>\n",
              "      <td>101348.88</td>\n",
              "      <td>1</td>\n",
              "      <td>1</td>\n",
              "    </tr>\n",
              "    <tr>\n",
              "      <th>1</th>\n",
              "      <td>15647311</td>\n",
              "      <td>Female</td>\n",
              "      <td>41</td>\n",
              "      <td>608</td>\n",
              "      <td>14.829268</td>\n",
              "      <td>112542.58</td>\n",
              "      <td>0</td>\n",
              "      <td>0</td>\n",
              "    </tr>\n",
              "    <tr>\n",
              "      <th>2</th>\n",
              "      <td>15619304</td>\n",
              "      <td>Female</td>\n",
              "      <td>42</td>\n",
              "      <td>502</td>\n",
              "      <td>11.952381</td>\n",
              "      <td>113931.57</td>\n",
              "      <td>1</td>\n",
              "      <td>1</td>\n",
              "    </tr>\n",
              "    <tr>\n",
              "      <th>3</th>\n",
              "      <td>15701354</td>\n",
              "      <td>Female</td>\n",
              "      <td>39</td>\n",
              "      <td>699</td>\n",
              "      <td>17.923077</td>\n",
              "      <td>93826.63</td>\n",
              "      <td>0</td>\n",
              "      <td>0</td>\n",
              "    </tr>\n",
              "    <tr>\n",
              "      <th>4</th>\n",
              "      <td>15737888</td>\n",
              "      <td>Female</td>\n",
              "      <td>43</td>\n",
              "      <td>850</td>\n",
              "      <td>19.767442</td>\n",
              "      <td>79084.10</td>\n",
              "      <td>1</td>\n",
              "      <td>0</td>\n",
              "    </tr>\n",
              "  </tbody>\n",
              "</table>\n",
              "</div>\n",
              "      <button class=\"colab-df-convert\" onclick=\"convertToInteractive('df-708b66a4-1431-4825-a7e9-17923ff33501')\"\n",
              "              title=\"Convert this dataframe to an interactive table.\"\n",
              "              style=\"display:none;\">\n",
              "        \n",
              "  <svg xmlns=\"http://www.w3.org/2000/svg\" height=\"24px\"viewBox=\"0 0 24 24\"\n",
              "       width=\"24px\">\n",
              "    <path d=\"M0 0h24v24H0V0z\" fill=\"none\"/>\n",
              "    <path d=\"M18.56 5.44l.94 2.06.94-2.06 2.06-.94-2.06-.94-.94-2.06-.94 2.06-2.06.94zm-11 1L8.5 8.5l.94-2.06 2.06-.94-2.06-.94L8.5 2.5l-.94 2.06-2.06.94zm10 10l.94 2.06.94-2.06 2.06-.94-2.06-.94-.94-2.06-.94 2.06-2.06.94z\"/><path d=\"M17.41 7.96l-1.37-1.37c-.4-.4-.92-.59-1.43-.59-.52 0-1.04.2-1.43.59L10.3 9.45l-7.72 7.72c-.78.78-.78 2.05 0 2.83L4 21.41c.39.39.9.59 1.41.59.51 0 1.02-.2 1.41-.59l7.78-7.78 2.81-2.81c.8-.78.8-2.07 0-2.86zM5.41 20L4 18.59l7.72-7.72 1.47 1.35L5.41 20z\"/>\n",
              "  </svg>\n",
              "      </button>\n",
              "      \n",
              "  <style>\n",
              "    .colab-df-container {\n",
              "      display:flex;\n",
              "      flex-wrap:wrap;\n",
              "      gap: 12px;\n",
              "    }\n",
              "\n",
              "    .colab-df-convert {\n",
              "      background-color: #E8F0FE;\n",
              "      border: none;\n",
              "      border-radius: 50%;\n",
              "      cursor: pointer;\n",
              "      display: none;\n",
              "      fill: #1967D2;\n",
              "      height: 32px;\n",
              "      padding: 0 0 0 0;\n",
              "      width: 32px;\n",
              "    }\n",
              "\n",
              "    .colab-df-convert:hover {\n",
              "      background-color: #E2EBFA;\n",
              "      box-shadow: 0px 1px 2px rgba(60, 64, 67, 0.3), 0px 1px 3px 1px rgba(60, 64, 67, 0.15);\n",
              "      fill: #174EA6;\n",
              "    }\n",
              "\n",
              "    [theme=dark] .colab-df-convert {\n",
              "      background-color: #3B4455;\n",
              "      fill: #D2E3FC;\n",
              "    }\n",
              "\n",
              "    [theme=dark] .colab-df-convert:hover {\n",
              "      background-color: #434B5C;\n",
              "      box-shadow: 0px 1px 3px 1px rgba(0, 0, 0, 0.15);\n",
              "      filter: drop-shadow(0px 1px 2px rgba(0, 0, 0, 0.3));\n",
              "      fill: #FFFFFF;\n",
              "    }\n",
              "  </style>\n",
              "\n",
              "      <script>\n",
              "        const buttonEl =\n",
              "          document.querySelector('#df-708b66a4-1431-4825-a7e9-17923ff33501 button.colab-df-convert');\n",
              "        buttonEl.style.display =\n",
              "          google.colab.kernel.accessAllowed ? 'block' : 'none';\n",
              "\n",
              "        async function convertToInteractive(key) {\n",
              "          const element = document.querySelector('#df-708b66a4-1431-4825-a7e9-17923ff33501');\n",
              "          const dataTable =\n",
              "            await google.colab.kernel.invokeFunction('convertToInteractive',\n",
              "                                                     [key], {});\n",
              "          if (!dataTable) return;\n",
              "\n",
              "          const docLinkHtml = 'Like what you see? Visit the ' +\n",
              "            '<a target=\"_blank\" href=https://colab.research.google.com/notebooks/data_table.ipynb>data table notebook</a>'\n",
              "            + ' to learn more about interactive tables.';\n",
              "          element.innerHTML = '';\n",
              "          dataTable['output_type'] = 'display_data';\n",
              "          await google.colab.output.renderOutput(dataTable, element);\n",
              "          const docLink = document.createElement('div');\n",
              "          docLink.innerHTML = docLinkHtml;\n",
              "          element.appendChild(docLink);\n",
              "        }\n",
              "      </script>\n",
              "    </div>\n",
              "  </div>\n",
              "  "
            ]
          },
          "metadata": {},
          "execution_count": 23
        }
      ]
    },
    {
      "cell_type": "code",
      "source": [
        "sns.boxplot(y = \"CreditScoreGivenAge\", x= \"Exited\", hue=\"Exited\", data=Dataset)\n",
        "plt.show()"
      ],
      "metadata": {
        "colab": {
          "base_uri": "https://localhost:8080/",
          "height": 279
        },
        "id": "Qh_BiAPcEnsm",
        "outputId": "c36197fb-f321-46e0-a136-044ca78bf0f9"
      },
      "execution_count": 24,
      "outputs": [
        {
          "output_type": "display_data",
          "data": {
            "text/plain": [
              "<Figure size 432x288 with 1 Axes>"
            ],
            "image/png": "[encoded data removed]"
          },
          "metadata": {
            "needs_background": "light"
          }
        }
      ]
    },
    {
      "cell_type": "markdown",
      "metadata": {
        "id": "WOmU-mvW0YVL"
      },
      "source": [
        "# **Data Preparation**"
      ]
    },
    {
      "cell_type": "code",
      "execution_count": 25,
      "metadata": {
        "id": "6Eml63Wc0ZUz",
        "colab": {
          "base_uri": "https://localhost:8080/"
        },
        "outputId": "9fb0efde-ce13-4c42-b402-8c216f62356a"
      },
      "outputs": [
        {
          "output_type": "execute_result",
          "data": {
            "text/plain": [
              "CustomerId                int64\n",
              "Gender                 category\n",
              "Age                       int64\n",
              "CreditScore               int64\n",
              "CreditScoreGivenAge     float64\n",
              "EstimatedSalary         float64\n",
              "HasCrCard                 int64\n",
              "Exited                    int64\n",
              "dtype: object"
            ]
          },
          "metadata": {},
          "execution_count": 25
        }
      ],
      "source": [
        "#Converting objects labels into categorical\n",
        "Dataset[['Gender']] = Dataset[['Gender']].astype('category')\n",
        "Dataset.dtypes"
      ]
    },
    {
      "cell_type": "code",
      "execution_count": 26,
      "metadata": {
        "id": "tg3NtzZ_1BIj",
        "colab": {
          "base_uri": "https://localhost:8080/",
          "height": 424
        },
        "outputId": "24574228-d940-4981-fe16-5400ac249020"
      },
      "outputs": [
        {
          "output_type": "execute_result",
          "data": {
            "text/plain": [
              "      CustomerId  Gender  Age  CreditScore  CreditScoreGivenAge  \\\n",
              "0       15634602       0   42          619            14.738095   \n",
              "1       15647311       0   41          608            14.829268   \n",
              "2       15619304       0   42          502            11.952381   \n",
              "3       15701354       0   39          699            17.923077   \n",
              "4       15737888       0   43          850            19.767442   \n",
              "...          ...     ...  ...          ...                  ...   \n",
              "9995    15606229       1   39          771            19.769231   \n",
              "9996    15569892       1   35          516            14.742857   \n",
              "9997    15584532       0   36          709            19.694444   \n",
              "9998    15682355       1   42          772            18.380952   \n",
              "9999    15628319       0   28          792            28.285714   \n",
              "\n",
              "      EstimatedSalary  HasCrCard  Exited  \n",
              "0           101348.88          1       1  \n",
              "1           112542.58          0       0  \n",
              "2           113931.57          1       1  \n",
              "3            93826.63          0       0  \n",
              "4            79084.10          1       0  \n",
              "...               ...        ...     ...  \n",
              "9995         96270.64          1       0  \n",
              "9996        101699.77          1       0  \n",
              "9997         42085.58          0       1  \n",
              "9998         92888.52          1       1  \n",
              "9999         38190.78          1       0  \n",
              "\n",
              "[10000 rows x 8 columns]"
            ],
            "text/html": [
              "\n",
              "  <div id=\"df-59eb9415-bd82-4c51-a67b-6f2c576dfc95\">\n",
              "    <div class=\"colab-df-container\">\n",
              "      <div>\n",
              "<style scoped>\n",
              "    .dataframe tbody tr th:only-of-type {\n",
              "        vertical-align: middle;\n",
              "    }\n",
              "\n",
              "    .dataframe tbody tr th {\n",
              "        vertical-align: top;\n",
              "    }\n",
              "\n",
              "    .dataframe thead th {\n",
              "        text-align: right;\n",
              "    }\n",
              "</style>\n",
              "<table border=\"1\" class=\"dataframe\">\n",
              "  <thead>\n",
              "    <tr style=\"text-align: right;\">\n",
              "      <th></th>\n",
              "      <th>CustomerId</th>\n",
              "      <th>Gender</th>\n",
              "      <th>Age</th>\n",
              "      <th>CreditScore</th>\n",
              "      <th>CreditScoreGivenAge</th>\n",
              "      <th>EstimatedSalary</th>\n",
              "      <th>HasCrCard</th>\n",
              "      <th>Exited</th>\n",
              "    </tr>\n",
              "  </thead>\n",
              "  <tbody>\n",
              "    <tr>\n",
              "      <th>0</th>\n",
              "      <td>15634602</td>\n",
              "      <td>0</td>\n",
              "      <td>42</td>\n",
              "      <td>619</td>\n",
              "      <td>14.738095</td>\n",
              "      <td>101348.88</td>\n",
              "      <td>1</td>\n",
              "      <td>1</td>\n",
              "    </tr>\n",
              "    <tr>\n",
              "      <th>1</th>\n",
              "      <td>15647311</td>\n",
              "      <td>0</td>\n",
              "      <td>41</td>\n",
              "      <td>608</td>\n",
              "      <td>14.829268</td>\n",
              "      <td>112542.58</td>\n",
              "      <td>0</td>\n",
              "      <td>0</td>\n",
              "    </tr>\n",
              "    <tr>\n",
              "      <th>2</th>\n",
              "      <td>15619304</td>\n",
              "      <td>0</td>\n",
              "      <td>42</td>\n",
              "      <td>502</td>\n",
              "      <td>11.952381</td>\n",
              "      <td>113931.57</td>\n",
              "      <td>1</td>\n",
              "      <td>1</td>\n",
              "    </tr>\n",
              "    <tr>\n",
              "      <th>3</th>\n",
              "      <td>15701354</td>\n",
              "      <td>0</td>\n",
              "      <td>39</td>\n",
              "      <td>699</td>\n",
              "      <td>17.923077</td>\n",
              "      <td>93826.63</td>\n",
              "      <td>0</td>\n",
              "      <td>0</td>\n",
              "    </tr>\n",
              "    <tr>\n",
              "      <th>4</th>\n",
              "      <td>15737888</td>\n",
              "      <td>0</td>\n",
              "      <td>43</td>\n",
              "      <td>850</td>\n",
              "      <td>19.767442</td>\n",
              "      <td>79084.10</td>\n",
              "      <td>1</td>\n",
              "      <td>0</td>\n",
              "    </tr>\n",
              "    <tr>\n",
              "      <th>...</th>\n",
              "      <td>...</td>\n",
              "      <td>...</td>\n",
              "      <td>...</td>\n",
              "      <td>...</td>\n",
              "      <td>...</td>\n",
              "      <td>...</td>\n",
              "      <td>...</td>\n",
              "      <td>...</td>\n",
              "    </tr>\n",
              "    <tr>\n",
              "      <th>9995</th>\n",
              "      <td>15606229</td>\n",
              "      <td>1</td>\n",
              "      <td>39</td>\n",
              "      <td>771</td>\n",
              "      <td>19.769231</td>\n",
              "      <td>96270.64</td>\n",
              "      <td>1</td>\n",
              "      <td>0</td>\n",
              "    </tr>\n",
              "    <tr>\n",
              "      <th>9996</th>\n",
              "      <td>15569892</td>\n",
              "      <td>1</td>\n",
              "      <td>35</td>\n",
              "      <td>516</td>\n",
              "      <td>14.742857</td>\n",
              "      <td>101699.77</td>\n",
              "      <td>1</td>\n",
              "      <td>0</td>\n",
              "    </tr>\n",
              "    <tr>\n",
              "      <th>9997</th>\n",
              "      <td>15584532</td>\n",
              "      <td>0</td>\n",
              "      <td>36</td>\n",
              "      <td>709</td>\n",
              "      <td>19.694444</td>\n",
              "      <td>42085.58</td>\n",
              "      <td>0</td>\n",
              "      <td>1</td>\n",
              "    </tr>\n",
              "    <tr>\n",
              "      <th>9998</th>\n",
              "      <td>15682355</td>\n",
              "      <td>1</td>\n",
              "      <td>42</td>\n",
              "      <td>772</td>\n",
              "      <td>18.380952</td>\n",
              "      <td>92888.52</td>\n",
              "      <td>1</td>\n",
              "      <td>1</td>\n",
              "    </tr>\n",
              "    <tr>\n",
              "      <th>9999</th>\n",
              "      <td>15628319</td>\n",
              "      <td>0</td>\n",
              "      <td>28</td>\n",
              "      <td>792</td>\n",
              "      <td>28.285714</td>\n",
              "      <td>38190.78</td>\n",
              "      <td>1</td>\n",
              "      <td>0</td>\n",
              "    </tr>\n",
              "  </tbody>\n",
              "</table>\n",
              "<p>10000 rows × 8 columns</p>\n",
              "</div>\n",
              "      <button class=\"colab-df-convert\" onclick=\"convertToInteractive('df-59eb9415-bd82-4c51-a67b-6f2c576dfc95')\"\n",
              "              title=\"Convert this dataframe to an interactive table.\"\n",
              "              style=\"display:none;\">\n",
              "        \n",
              "  <svg xmlns=\"http://www.w3.org/2000/svg\" height=\"24px\"viewBox=\"0 0 24 24\"\n",
              "       width=\"24px\">\n",
              "    <path d=\"M0 0h24v24H0V0z\" fill=\"none\"/>\n",
              "    <path d=\"M18.56 5.44l.94 2.06.94-2.06 2.06-.94-2.06-.94-.94-2.06-.94 2.06-2.06.94zm-11 1L8.5 8.5l.94-2.06 2.06-.94-2.06-.94L8.5 2.5l-.94 2.06-2.06.94zm10 10l.94 2.06.94-2.06 2.06-.94-2.06-.94-.94-2.06-.94 2.06-2.06.94z\"/><path d=\"M17.41 7.96l-1.37-1.37c-.4-.4-.92-.59-1.43-.59-.52 0-1.04.2-1.43.59L10.3 9.45l-7.72 7.72c-.78.78-.78 2.05 0 2.83L4 21.41c.39.39.9.59 1.41.59.51 0 1.02-.2 1.41-.59l7.78-7.78 2.81-2.81c.8-.78.8-2.07 0-2.86zM5.41 20L4 18.59l7.72-7.72 1.47 1.35L5.41 20z\"/>\n",
              "  </svg>\n",
              "      </button>\n",
              "      \n",
              "  <style>\n",
              "    .colab-df-container {\n",
              "      display:flex;\n",
              "      flex-wrap:wrap;\n",
              "      gap: 12px;\n",
              "    }\n",
              "\n",
              "    .colab-df-convert {\n",
              "      background-color: #E8F0FE;\n",
              "      border: none;\n",
              "      border-radius: 50%;\n",
              "      cursor: pointer;\n",
              "      display: none;\n",
              "      fill: #1967D2;\n",
              "      height: 32px;\n",
              "      padding: 0 0 0 0;\n",
              "      width: 32px;\n",
              "    }\n",
              "\n",
              "    .colab-df-convert:hover {\n",
              "      background-color: #E2EBFA;\n",
              "      box-shadow: 0px 1px 2px rgba(60, 64, 67, 0.3), 0px 1px 3px 1px rgba(60, 64, 67, 0.15);\n",
              "      fill: #174EA6;\n",
              "    }\n",
              "\n",
              "    [theme=dark] .colab-df-convert {\n",
              "      background-color: #3B4455;\n",
              "      fill: #D2E3FC;\n",
              "    }\n",
              "\n",
              "    [theme=dark] .colab-df-convert:hover {\n",
              "      background-color: #434B5C;\n",
              "      box-shadow: 0px 1px 3px 1px rgba(0, 0, 0, 0.15);\n",
              "      filter: drop-shadow(0px 1px 2px rgba(0, 0, 0, 0.3));\n",
              "      fill: #FFFFFF;\n",
              "    }\n",
              "  </style>\n",
              "\n",
              "      <script>\n",
              "        const buttonEl =\n",
              "          document.querySelector('#df-59eb9415-bd82-4c51-a67b-6f2c576dfc95 button.colab-df-convert');\n",
              "        buttonEl.style.display =\n",
              "          google.colab.kernel.accessAllowed ? 'block' : 'none';\n",
              "\n",
              "        async function convertToInteractive(key) {\n",
              "          const element = document.querySelector('#df-59eb9415-bd82-4c51-a67b-6f2c576dfc95');\n",
              "          const dataTable =\n",
              "            await google.colab.kernel.invokeFunction('convertToInteractive',\n",
              "                                                     [key], {});\n",
              "          if (!dataTable) return;\n",
              "\n",
              "          const docLinkHtml = 'Like what you see? Visit the ' +\n",
              "            '<a target=\"_blank\" href=https://colab.research.google.com/notebooks/data_table.ipynb>data table notebook</a>'\n",
              "            + ' to learn more about interactive tables.';\n",
              "          element.innerHTML = '';\n",
              "          dataTable['output_type'] = 'display_data';\n",
              "          await google.colab.output.renderOutput(dataTable, element);\n",
              "          const docLink = document.createElement('div');\n",
              "          docLink.innerHTML = docLinkHtml;\n",
              "          element.appendChild(docLink);\n",
              "        }\n",
              "      </script>\n",
              "    </div>\n",
              "  </div>\n",
              "  "
            ]
          },
          "metadata": {},
          "execution_count": 26
        }
      ],
      "source": [
        "#Converting category labels into numerical using LabelEncoder\n",
        "label = LabelEncoder()\n",
        "DatasetPrep = Dataset.copy()\n",
        "DatasetPrep.Gender = label.fit_transform(DatasetPrep.Gender)\n",
        "# Dataset.dtypes\n",
        "DatasetPrep"
      ]
    },
    {
      "cell_type": "markdown",
      "source": [
        "coba pakai one hot aencoder untuk menguji benar atau tidak akurasi nya nambah"
      ],
      "metadata": {
        "id": "JuWghJOG1zcs"
      }
    },
    {
      "cell_type": "markdown",
      "metadata": {
        "id": "0UL0JsLh1bSb"
      },
      "source": [
        "Female = 0, Male = 1"
      ]
    },
    {
      "cell_type": "code",
      "execution_count": 27,
      "metadata": {
        "id": "-lDS7ldYUZcD",
        "colab": {
          "base_uri": "https://localhost:8080/",
          "height": 206
        },
        "outputId": "8a81e090-54db-4f46-804d-3a435d53e475"
      },
      "outputs": [
        {
          "output_type": "execute_result",
          "data": {
            "text/plain": [
              "   Gender  Age  CreditScore  CreditScoreGivenAge  EstimatedSalary  HasCrCard  \\\n",
              "0       0   42          619            14.738095        101348.88          1   \n",
              "1       0   41          608            14.829268        112542.58          0   \n",
              "2       0   42          502            11.952381        113931.57          1   \n",
              "3       0   39          699            17.923077         93826.63          0   \n",
              "4       0   43          850            19.767442         79084.10          1   \n",
              "\n",
              "   Exited  \n",
              "0       1  \n",
              "1       0  \n",
              "2       1  \n",
              "3       0  \n",
              "4       0  "
            ],
            "text/html": [
              "\n",
              "  <div id=\"df-06ca4395-75a7-4041-b18e-3670efe1fea9\">\n",
              "    <div class=\"colab-df-container\">\n",
              "      <div>\n",
              "<style scoped>\n",
              "    .dataframe tbody tr th:only-of-type {\n",
              "        vertical-align: middle;\n",
              "    }\n",
              "\n",
              "    .dataframe tbody tr th {\n",
              "        vertical-align: top;\n",
              "    }\n",
              "\n",
              "    .dataframe thead th {\n",
              "        text-align: right;\n",
              "    }\n",
              "</style>\n",
              "<table border=\"1\" class=\"dataframe\">\n",
              "  <thead>\n",
              "    <tr style=\"text-align: right;\">\n",
              "      <th></th>\n",
              "      <th>Gender</th>\n",
              "      <th>Age</th>\n",
              "      <th>CreditScore</th>\n",
              "      <th>CreditScoreGivenAge</th>\n",
              "      <th>EstimatedSalary</th>\n",
              "      <th>HasCrCard</th>\n",
              "      <th>Exited</th>\n",
              "    </tr>\n",
              "  </thead>\n",
              "  <tbody>\n",
              "    <tr>\n",
              "      <th>0</th>\n",
              "      <td>0</td>\n",
              "      <td>42</td>\n",
              "      <td>619</td>\n",
              "      <td>14.738095</td>\n",
              "      <td>101348.88</td>\n",
              "      <td>1</td>\n",
              "      <td>1</td>\n",
              "    </tr>\n",
              "    <tr>\n",
              "      <th>1</th>\n",
              "      <td>0</td>\n",
              "      <td>41</td>\n",
              "      <td>608</td>\n",
              "      <td>14.829268</td>\n",
              "      <td>112542.58</td>\n",
              "      <td>0</td>\n",
              "      <td>0</td>\n",
              "    </tr>\n",
              "    <tr>\n",
              "      <th>2</th>\n",
              "      <td>0</td>\n",
              "      <td>42</td>\n",
              "      <td>502</td>\n",
              "      <td>11.952381</td>\n",
              "      <td>113931.57</td>\n",
              "      <td>1</td>\n",
              "      <td>1</td>\n",
              "    </tr>\n",
              "    <tr>\n",
              "      <th>3</th>\n",
              "      <td>0</td>\n",
              "      <td>39</td>\n",
              "      <td>699</td>\n",
              "      <td>17.923077</td>\n",
              "      <td>93826.63</td>\n",
              "      <td>0</td>\n",
              "      <td>0</td>\n",
              "    </tr>\n",
              "    <tr>\n",
              "      <th>4</th>\n",
              "      <td>0</td>\n",
              "      <td>43</td>\n",
              "      <td>850</td>\n",
              "      <td>19.767442</td>\n",
              "      <td>79084.10</td>\n",
              "      <td>1</td>\n",
              "      <td>0</td>\n",
              "    </tr>\n",
              "  </tbody>\n",
              "</table>\n",
              "</div>\n",
              "      <button class=\"colab-df-convert\" onclick=\"convertToInteractive('df-06ca4395-75a7-4041-b18e-3670efe1fea9')\"\n",
              "              title=\"Convert this dataframe to an interactive table.\"\n",
              "              style=\"display:none;\">\n",
              "        \n",
              "  <svg xmlns=\"http://www.w3.org/2000/svg\" height=\"24px\"viewBox=\"0 0 24 24\"\n",
              "       width=\"24px\">\n",
              "    <path d=\"M0 0h24v24H0V0z\" fill=\"none\"/>\n",
              "    <path d=\"M18.56 5.44l.94 2.06.94-2.06 2.06-.94-2.06-.94-.94-2.06-.94 2.06-2.06.94zm-11 1L8.5 8.5l.94-2.06 2.06-.94-2.06-.94L8.5 2.5l-.94 2.06-2.06.94zm10 10l.94 2.06.94-2.06 2.06-.94-2.06-.94-.94-2.06-.94 2.06-2.06.94z\"/><path d=\"M17.41 7.96l-1.37-1.37c-.4-.4-.92-.59-1.43-.59-.52 0-1.04.2-1.43.59L10.3 9.45l-7.72 7.72c-.78.78-.78 2.05 0 2.83L4 21.41c.39.39.9.59 1.41.59.51 0 1.02-.2 1.41-.59l7.78-7.78 2.81-2.81c.8-.78.8-2.07 0-2.86zM5.41 20L4 18.59l7.72-7.72 1.47 1.35L5.41 20z\"/>\n",
              "  </svg>\n",
              "      </button>\n",
              "      \n",
              "  <style>\n",
              "    .colab-df-container {\n",
              "      display:flex;\n",
              "      flex-wrap:wrap;\n",
              "      gap: 12px;\n",
              "    }\n",
              "\n",
              "    .colab-df-convert {\n",
              "      background-color: #E8F0FE;\n",
              "      border: none;\n",
              "      border-radius: 50%;\n",
              "      cursor: pointer;\n",
              "      display: none;\n",
              "      fill: #1967D2;\n",
              "      height: 32px;\n",
              "      padding: 0 0 0 0;\n",
              "      width: 32px;\n",
              "    }\n",
              "\n",
              "    .colab-df-convert:hover {\n",
              "      background-color: #E2EBFA;\n",
              "      box-shadow: 0px 1px 2px rgba(60, 64, 67, 0.3), 0px 1px 3px 1px rgba(60, 64, 67, 0.15);\n",
              "      fill: #174EA6;\n",
              "    }\n",
              "\n",
              "    [theme=dark] .colab-df-convert {\n",
              "      background-color: #3B4455;\n",
              "      fill: #D2E3FC;\n",
              "    }\n",
              "\n",
              "    [theme=dark] .colab-df-convert:hover {\n",
              "      background-color: #434B5C;\n",
              "      box-shadow: 0px 1px 3px 1px rgba(0, 0, 0, 0.15);\n",
              "      filter: drop-shadow(0px 1px 2px rgba(0, 0, 0, 0.3));\n",
              "      fill: #FFFFFF;\n",
              "    }\n",
              "  </style>\n",
              "\n",
              "      <script>\n",
              "        const buttonEl =\n",
              "          document.querySelector('#df-06ca4395-75a7-4041-b18e-3670efe1fea9 button.colab-df-convert');\n",
              "        buttonEl.style.display =\n",
              "          google.colab.kernel.accessAllowed ? 'block' : 'none';\n",
              "\n",
              "        async function convertToInteractive(key) {\n",
              "          const element = document.querySelector('#df-06ca4395-75a7-4041-b18e-3670efe1fea9');\n",
              "          const dataTable =\n",
              "            await google.colab.kernel.invokeFunction('convertToInteractive',\n",
              "                                                     [key], {});\n",
              "          if (!dataTable) return;\n",
              "\n",
              "          const docLinkHtml = 'Like what you see? Visit the ' +\n",
              "            '<a target=\"_blank\" href=https://colab.research.google.com/notebooks/data_table.ipynb>data table notebook</a>'\n",
              "            + ' to learn more about interactive tables.';\n",
              "          element.innerHTML = '';\n",
              "          dataTable['output_type'] = 'display_data';\n",
              "          await google.colab.output.renderOutput(dataTable, element);\n",
              "          const docLink = document.createElement('div');\n",
              "          docLink.innerHTML = docLinkHtml;\n",
              "          element.appendChild(docLink);\n",
              "        }\n",
              "      </script>\n",
              "    </div>\n",
              "  </div>\n",
              "  "
            ]
          },
          "metadata": {},
          "execution_count": 27
        }
      ],
      "source": [
        "#Menghapus Variabel Customer Id, karena bukan hal yang memiliki pengaruh terhadap variabel target\n",
        "DatasetPrep = DatasetPrep.drop(columns=['CustomerId'])\n",
        "DatasetPrep.head()"
      ]
    },
    {
      "cell_type": "code",
      "execution_count": 28,
      "metadata": {
        "id": "BmGmwJYbViHx",
        "colab": {
          "base_uri": "https://localhost:8080/",
          "height": 424
        },
        "outputId": "6f6918de-c971-43c6-9699-f71a30201efa"
      },
      "outputs": [
        {
          "output_type": "execute_result",
          "data": {
            "text/plain": [
              "      X1  X2   X3         X4         X5  X6  Y\n",
              "0      0  42  619  14.738095  101348.88   1  1\n",
              "1      0  41  608  14.829268  112542.58   0  0\n",
              "2      0  42  502  11.952381  113931.57   1  1\n",
              "3      0  39  699  17.923077   93826.63   0  0\n",
              "4      0  43  850  19.767442   79084.10   1  0\n",
              "...   ..  ..  ...        ...        ...  .. ..\n",
              "9995   1  39  771  19.769231   96270.64   1  0\n",
              "9996   1  35  516  14.742857  101699.77   1  0\n",
              "9997   0  36  709  19.694444   42085.58   0  1\n",
              "9998   1  42  772  18.380952   92888.52   1  1\n",
              "9999   0  28  792  28.285714   38190.78   1  0\n",
              "\n",
              "[10000 rows x 7 columns]"
            ],
            "text/html": [
              "\n",
              "  <div id=\"df-9096ad5c-d0b1-4e5a-a653-44bb9c34b95d\">\n",
              "    <div class=\"colab-df-container\">\n",
              "      <div>\n",
              "<style scoped>\n",
              "    .dataframe tbody tr th:only-of-type {\n",
              "        vertical-align: middle;\n",
              "    }\n",
              "\n",
              "    .dataframe tbody tr th {\n",
              "        vertical-align: top;\n",
              "    }\n",
              "\n",
              "    .dataframe thead th {\n",
              "        text-align: right;\n",
              "    }\n",
              "</style>\n",
              "<table border=\"1\" class=\"dataframe\">\n",
              "  <thead>\n",
              "    <tr style=\"text-align: right;\">\n",
              "      <th></th>\n",
              "      <th>X1</th>\n",
              "      <th>X2</th>\n",
              "      <th>X3</th>\n",
              "      <th>X4</th>\n",
              "      <th>X5</th>\n",
              "      <th>X6</th>\n",
              "      <th>Y</th>\n",
              "    </tr>\n",
              "  </thead>\n",
              "  <tbody>\n",
              "    <tr>\n",
              "      <th>0</th>\n",
              "      <td>0</td>\n",
              "      <td>42</td>\n",
              "      <td>619</td>\n",
              "      <td>14.738095</td>\n",
              "      <td>101348.88</td>\n",
              "      <td>1</td>\n",
              "      <td>1</td>\n",
              "    </tr>\n",
              "    <tr>\n",
              "      <th>1</th>\n",
              "      <td>0</td>\n",
              "      <td>41</td>\n",
              "      <td>608</td>\n",
              "      <td>14.829268</td>\n",
              "      <td>112542.58</td>\n",
              "      <td>0</td>\n",
              "      <td>0</td>\n",
              "    </tr>\n",
              "    <tr>\n",
              "      <th>2</th>\n",
              "      <td>0</td>\n",
              "      <td>42</td>\n",
              "      <td>502</td>\n",
              "      <td>11.952381</td>\n",
              "      <td>113931.57</td>\n",
              "      <td>1</td>\n",
              "      <td>1</td>\n",
              "    </tr>\n",
              "    <tr>\n",
              "      <th>3</th>\n",
              "      <td>0</td>\n",
              "      <td>39</td>\n",
              "      <td>699</td>\n",
              "      <td>17.923077</td>\n",
              "      <td>93826.63</td>\n",
              "      <td>0</td>\n",
              "      <td>0</td>\n",
              "    </tr>\n",
              "    <tr>\n",
              "      <th>4</th>\n",
              "      <td>0</td>\n",
              "      <td>43</td>\n",
              "      <td>850</td>\n",
              "      <td>19.767442</td>\n",
              "      <td>79084.10</td>\n",
              "      <td>1</td>\n",
              "      <td>0</td>\n",
              "    </tr>\n",
              "    <tr>\n",
              "      <th>...</th>\n",
              "      <td>...</td>\n",
              "      <td>...</td>\n",
              "      <td>...</td>\n",
              "      <td>...</td>\n",
              "      <td>...</td>\n",
              "      <td>...</td>\n",
              "      <td>...</td>\n",
              "    </tr>\n",
              "    <tr>\n",
              "      <th>9995</th>\n",
              "      <td>1</td>\n",
              "      <td>39</td>\n",
              "      <td>771</td>\n",
              "      <td>19.769231</td>\n",
              "      <td>96270.64</td>\n",
              "      <td>1</td>\n",
              "      <td>0</td>\n",
              "    </tr>\n",
              "    <tr>\n",
              "      <th>9996</th>\n",
              "      <td>1</td>\n",
              "      <td>35</td>\n",
              "      <td>516</td>\n",
              "      <td>14.742857</td>\n",
              "      <td>101699.77</td>\n",
              "      <td>1</td>\n",
              "      <td>0</td>\n",
              "    </tr>\n",
              "    <tr>\n",
              "      <th>9997</th>\n",
              "      <td>0</td>\n",
              "      <td>36</td>\n",
              "      <td>709</td>\n",
              "      <td>19.694444</td>\n",
              "      <td>42085.58</td>\n",
              "      <td>0</td>\n",
              "      <td>1</td>\n",
              "    </tr>\n",
              "    <tr>\n",
              "      <th>9998</th>\n",
              "      <td>1</td>\n",
              "      <td>42</td>\n",
              "      <td>772</td>\n",
              "      <td>18.380952</td>\n",
              "      <td>92888.52</td>\n",
              "      <td>1</td>\n",
              "      <td>1</td>\n",
              "    </tr>\n",
              "    <tr>\n",
              "      <th>9999</th>\n",
              "      <td>0</td>\n",
              "      <td>28</td>\n",
              "      <td>792</td>\n",
              "      <td>28.285714</td>\n",
              "      <td>38190.78</td>\n",
              "      <td>1</td>\n",
              "      <td>0</td>\n",
              "    </tr>\n",
              "  </tbody>\n",
              "</table>\n",
              "<p>10000 rows × 7 columns</p>\n",
              "</div>\n",
              "      <button class=\"colab-df-convert\" onclick=\"convertToInteractive('df-9096ad5c-d0b1-4e5a-a653-44bb9c34b95d')\"\n",
              "              title=\"Convert this dataframe to an interactive table.\"\n",
              "              style=\"display:none;\">\n",
              "        \n",
              "  <svg xmlns=\"http://www.w3.org/2000/svg\" height=\"24px\"viewBox=\"0 0 24 24\"\n",
              "       width=\"24px\">\n",
              "    <path d=\"M0 0h24v24H0V0z\" fill=\"none\"/>\n",
              "    <path d=\"M18.56 5.44l.94 2.06.94-2.06 2.06-.94-2.06-.94-.94-2.06-.94 2.06-2.06.94zm-11 1L8.5 8.5l.94-2.06 2.06-.94-2.06-.94L8.5 2.5l-.94 2.06-2.06.94zm10 10l.94 2.06.94-2.06 2.06-.94-2.06-.94-.94-2.06-.94 2.06-2.06.94z\"/><path d=\"M17.41 7.96l-1.37-1.37c-.4-.4-.92-.59-1.43-.59-.52 0-1.04.2-1.43.59L10.3 9.45l-7.72 7.72c-.78.78-.78 2.05 0 2.83L4 21.41c.39.39.9.59 1.41.59.51 0 1.02-.2 1.41-.59l7.78-7.78 2.81-2.81c.8-.78.8-2.07 0-2.86zM5.41 20L4 18.59l7.72-7.72 1.47 1.35L5.41 20z\"/>\n",
              "  </svg>\n",
              "      </button>\n",
              "      \n",
              "  <style>\n",
              "    .colab-df-container {\n",
              "      display:flex;\n",
              "      flex-wrap:wrap;\n",
              "      gap: 12px;\n",
              "    }\n",
              "\n",
              "    .colab-df-convert {\n",
              "      background-color: #E8F0FE;\n",
              "      border: none;\n",
              "      border-radius: 50%;\n",
              "      cursor: pointer;\n",
              "      display: none;\n",
              "      fill: #1967D2;\n",
              "      height: 32px;\n",
              "      padding: 0 0 0 0;\n",
              "      width: 32px;\n",
              "    }\n",
              "\n",
              "    .colab-df-convert:hover {\n",
              "      background-color: #E2EBFA;\n",
              "      box-shadow: 0px 1px 2px rgba(60, 64, 67, 0.3), 0px 1px 3px 1px rgba(60, 64, 67, 0.15);\n",
              "      fill: #174EA6;\n",
              "    }\n",
              "\n",
              "    [theme=dark] .colab-df-convert {\n",
              "      background-color: #3B4455;\n",
              "      fill: #D2E3FC;\n",
              "    }\n",
              "\n",
              "    [theme=dark] .colab-df-convert:hover {\n",
              "      background-color: #434B5C;\n",
              "      box-shadow: 0px 1px 3px 1px rgba(0, 0, 0, 0.15);\n",
              "      filter: drop-shadow(0px 1px 2px rgba(0, 0, 0, 0.3));\n",
              "      fill: #FFFFFF;\n",
              "    }\n",
              "  </style>\n",
              "\n",
              "      <script>\n",
              "        const buttonEl =\n",
              "          document.querySelector('#df-9096ad5c-d0b1-4e5a-a653-44bb9c34b95d button.colab-df-convert');\n",
              "        buttonEl.style.display =\n",
              "          google.colab.kernel.accessAllowed ? 'block' : 'none';\n",
              "\n",
              "        async function convertToInteractive(key) {\n",
              "          const element = document.querySelector('#df-9096ad5c-d0b1-4e5a-a653-44bb9c34b95d');\n",
              "          const dataTable =\n",
              "            await google.colab.kernel.invokeFunction('convertToInteractive',\n",
              "                                                     [key], {});\n",
              "          if (!dataTable) return;\n",
              "\n",
              "          const docLinkHtml = 'Like what you see? Visit the ' +\n",
              "            '<a target=\"_blank\" href=https://colab.research.google.com/notebooks/data_table.ipynb>data table notebook</a>'\n",
              "            + ' to learn more about interactive tables.';\n",
              "          element.innerHTML = '';\n",
              "          dataTable['output_type'] = 'display_data';\n",
              "          await google.colab.output.renderOutput(dataTable, element);\n",
              "          const docLink = document.createElement('div');\n",
              "          docLink.innerHTML = docLinkHtml;\n",
              "          element.appendChild(docLink);\n",
              "        }\n",
              "      </script>\n",
              "    </div>\n",
              "  </div>\n",
              "  "
            ]
          },
          "metadata": {},
          "execution_count": 28
        }
      ],
      "source": [
        "# Simplify Column Name\n",
        "DatasetPrep.rename(columns={'Gender':'X1', 'Age':'X2',\n",
        "                   'CreditScore':'X3','EstimatedSalary':'X5','HasCrCard':'X6', 'CreditScoreGivenAge':'X4',\n",
        "                   'Exited':'Y'}, inplace=True)\n",
        "DatasetPrep"
      ]
    },
    {
      "cell_type": "code",
      "source": [
        "X = DatasetPrep.drop('Y', axis=1)\n",
        "y = DatasetPrep['Y']"
      ],
      "metadata": {
        "id": "KrJD0isF6-0R"
      },
      "execution_count": 29,
      "outputs": []
    },
    {
      "cell_type": "markdown",
      "source": [
        "## Tanpa SMOTE"
      ],
      "metadata": {
        "id": "OA2LRyRY7YyR"
      }
    },
    {
      "cell_type": "code",
      "source": [
        "X_TanpaSMOTE = X.copy()\n",
        "y_TanpaSMOTE = y.copy()"
      ],
      "metadata": {
        "id": "nWUN3Xwp7oem"
      },
      "execution_count": 30,
      "outputs": []
    },
    {
      "cell_type": "markdown",
      "source": [
        "## Setelah SMOTE"
      ],
      "metadata": {
        "id": "IoxPtpvVBaIq"
      }
    },
    {
      "cell_type": "markdown",
      "source": [],
      "metadata": {
        "id": "jtV6BovxswGv"
      }
    },
    {
      "cell_type": "code",
      "source": [
        "X_SMOTE = X.copy()\n",
        "y_SMOTE = y.copy()"
      ],
      "metadata": {
        "id": "qYOfB2pUBhen"
      },
      "execution_count": 31,
      "outputs": []
    },
    {
      "cell_type": "code",
      "source": [
        "from imblearn.over_sampling import SMOTE\n",
        "smote = SMOTE()\n",
        "X_SMOTE, y_SMOTE = smote.fit_resample(X_SMOTE,y_SMOTE)"
      ],
      "metadata": {
        "id": "ZofhLzPFDPz3"
      },
      "execution_count": 32,
      "outputs": []
    },
    {
      "cell_type": "markdown",
      "metadata": {
        "id": "9njjS_FQiCsV"
      },
      "source": [
        "### Train Test Split Data Tanpa SMOTE"
      ]
    },
    {
      "cell_type": "markdown",
      "metadata": {
        "id": "YQodTUaBiB_t"
      },
      "source": [
        "Dikarenakan data target imbalanced(bisa dilihat di visualisasi data exited pada diagram lingkaran), maka kita akan menggunakan stratified random sampling, karena nanti untuk train nanti Y nya rasionya akan disetarakan"
      ]
    },
    {
      "cell_type": "code",
      "execution_count": 33,
      "metadata": {
        "id": "AUIz0kpAgAZG"
      },
      "outputs": [],
      "source": [
        "# #  Train-Tes Split Data\n",
        "# from sklearn.model_selection import train_test_split\n",
        "\n",
        "# X = DatasetPrep.drop(columns=['Y']).copy()\n",
        "# y = DatasetPrep['Y'].copy()\n",
        "# X_train, X_test, y_train, y_test = train_test_split(X, y, test_size=0.25, random_state=42)"
      ]
    },
    {
      "cell_type": "code",
      "execution_count": 34,
      "metadata": {
        "id": "Zt22ZoKti_il"
      },
      "outputs": [],
      "source": [
        "from sklearn.model_selection import train_test_split\n",
        "\n",
        "X_trainTanpaSMOTE,X_testTanpaSMOTE,y_trainTanpaSMOTE,y_testTanpaSMOTE = train_test_split(X_TanpaSMOTE,y_TanpaSMOTE,test_size = 0.35,\n",
        "                                                 stratify=y_TanpaSMOTE,random_state = 123)"
      ]
    },
    {
      "cell_type": "code",
      "execution_count": 35,
      "metadata": {
        "id": "yKrEQ1B6eCcp"
      },
      "outputs": [],
      "source": [
        "# Normalisasi Data = fungsinya agar range antar fitur sama\n",
        "from sklearn.preprocessing import MinMaxScaler\n",
        "mm = MinMaxScaler()\n",
        "\n",
        "X_trainTanpaSMOTE = pd.DataFrame(mm.fit_transform(X_trainTanpaSMOTE),\n",
        "                                 columns=X_trainTanpaSMOTE.columns)\n",
        "X_testTanpaSMOTE = pd.DataFrame(mm.fit_transform(X_testTanpaSMOTE),\n",
        "                                 columns=X_testTanpaSMOTE.columns)"
      ]
    },
    {
      "cell_type": "markdown",
      "source": [
        "### Train Test Split Data SMOTE"
      ],
      "metadata": {
        "id": "wD7Zdk7pBm8D"
      }
    },
    {
      "cell_type": "code",
      "source": [
        "from sklearn.model_selection import train_test_split\n",
        "\n",
        "X_trainSMOTE,X_testSMOTE,y_trainSMOTE,y_testSMOTE = train_test_split(X_SMOTE,y_SMOTE,test_size = 0.35,\n",
        "                                                 stratify=y_SMOTE,random_state = 123)"
      ],
      "metadata": {
        "id": "bjfHZm_wBriR"
      },
      "execution_count": 36,
      "outputs": []
    },
    {
      "cell_type": "code",
      "source": [
        "# Normalisasi Data = fungsinya agar range antar fitur sama\n",
        "from sklearn.preprocessing import MinMaxScaler\n",
        "mm = MinMaxScaler()\n",
        "\n",
        "X_trainSMOTE = pd.DataFrame(mm.fit_transform(X_trainSMOTE),\n",
        "                                 columns=X_trainSMOTE.columns)\n",
        "X_testSMOTE = pd.DataFrame(mm.fit_transform(X_testSMOTE),\n",
        "                                 columns=X_testSMOTE.columns)"
      ],
      "metadata": {
        "id": "-IhCVoHmB0K3"
      },
      "execution_count": 37,
      "outputs": []
    },
    {
      "cell_type": "markdown",
      "source": [
        "### Modelling"
      ],
      "metadata": {
        "id": "6mT_s3UJ87SD"
      }
    },
    {
      "cell_type": "code",
      "source": [
        "from sklearn.linear_model import LogisticRegression\n",
        "from sklearn.ensemble import RandomForestClassifier\n",
        "from sklearn.tree import DecisionTreeClassifier\n",
        "from sklearn.neighbors import KNeighborsClassifier"
      ],
      "metadata": {
        "id": "pa1hfhL08-BC"
      },
      "execution_count": 38,
      "outputs": []
    },
    {
      "cell_type": "code",
      "source": [
        "from sklearn.metrics import accuracy_score\n",
        "from sklearn.metrics import precision_score\n",
        "from sklearn.metrics import recall_score\n",
        "from sklearn.metrics import f1_score\n",
        "from sklearn.metrics import roc_auc_score, auc"
      ],
      "metadata": {
        "id": "8vzwsxxs9BrV"
      },
      "execution_count": 39,
      "outputs": []
    },
    {
      "cell_type": "markdown",
      "source": [
        "#### Logistic Regression Tanpa SMOTE"
      ],
      "metadata": {
        "id": "Dmz67Cx-9FPb"
      }
    },
    {
      "cell_type": "code",
      "source": [
        "#FitModel LogisticRegression\n",
        "logTanpaSMOTE = LogisticRegression()\n",
        "logTanpaSMOTE.fit(X_trainTanpaSMOTE, y_trainTanpaSMOTE)"
      ],
      "metadata": {
        "id": "m2kbrjif-AXk",
        "colab": {
          "base_uri": "https://localhost:8080/"
        },
        "outputId": "c092f18c-105f-46d7-d4af-6eab2414dfe6"
      },
      "execution_count": 40,
      "outputs": [
        {
          "output_type": "execute_result",
          "data": {
            "text/plain": [
              "LogisticRegression()"
            ]
          },
          "metadata": {},
          "execution_count": 40
        }
      ]
    },
    {
      "cell_type": "code",
      "source": [
        "print(\"Logistic Regression\")\n",
        "y_predLRTanpaSMOTE = logTanpaSMOTE.predict(X_testTanpaSMOTE)\n",
        "\n",
        "print(\"Accuracy: \", accuracy_score(y_testTanpaSMOTE, y_predLRTanpaSMOTE).round(2))\n",
        "print(\"Precission: \", precision_score(y_testTanpaSMOTE, y_predLRTanpaSMOTE).round(2))\n",
        "print(\"Recall: \", recall_score(y_testTanpaSMOTE, y_predLRTanpaSMOTE).round(2))\n",
        "print(\"F1-Score: \", f1_score(y_testTanpaSMOTE, y_predLRTanpaSMOTE).round(2))\n",
        "\n",
        "y_pred_probaLRTanpaSMOTE = logTanpaSMOTE.predict_proba(X_testTanpaSMOTE)[::, -1]\n",
        "print(\"ROC-AUC: \", roc_auc_score(y_testTanpaSMOTE, y_pred_probaLRTanpaSMOTE).round(2))"
      ],
      "metadata": {
        "id": "F-Y8jejt-Vkv",
        "colab": {
          "base_uri": "https://localhost:8080/"
        },
        "outputId": "56894ff2-8ec9-4ef0-db4c-cd81527db190"
      },
      "execution_count": 41,
      "outputs": [
        {
          "output_type": "stream",
          "name": "stdout",
          "text": [
            "Logistic Regression\n",
            "Accuracy:  0.78\n",
            "Precission:  0.24\n",
            "Recall:  0.03\n",
            "F1-Score:  0.05\n",
            "ROC-AUC:  0.72\n"
          ]
        }
      ]
    },
    {
      "cell_type": "markdown",
      "source": [
        "#### Logistic Regression SMOTE"
      ],
      "metadata": {
        "id": "d61tAeILCkpj"
      }
    },
    {
      "cell_type": "code",
      "source": [
        "#FitModel LogisticRegression\n",
        "logSMOTE = LogisticRegression()\n",
        "logSMOTE.fit(X_trainSMOTE, y_trainSMOTE)"
      ],
      "metadata": {
        "id": "NZxYolbxCneh",
        "colab": {
          "base_uri": "https://localhost:8080/"
        },
        "outputId": "f89b6606-e317-41cf-c325-0379e55dc7bd"
      },
      "execution_count": 42,
      "outputs": [
        {
          "output_type": "execute_result",
          "data": {
            "text/plain": [
              "LogisticRegression()"
            ]
          },
          "metadata": {},
          "execution_count": 42
        }
      ]
    },
    {
      "cell_type": "code",
      "source": [
        "print(\"Logistic Regression\")\n",
        "y_predLRSMOTE = logSMOTE.predict(X_testSMOTE)\n",
        "\n",
        "print(\"Accuracy: \", accuracy_score(y_testSMOTE, y_predLRSMOTE).round(2))\n",
        "print(\"Precission: \", precision_score(y_testSMOTE, y_predLRSMOTE).round(2))\n",
        "print(\"Recall: \", recall_score(y_testSMOTE, y_predLRSMOTE).round(2))\n",
        "print(\"F1-Score: \", f1_score(y_testSMOTE, y_predLRSMOTE).round(2))\n",
        "\n",
        "y_pred_probaLRSMOTE = logSMOTE.predict_proba(X_testSMOTE)[::, -1]\n",
        "print(\"ROC-AUC: \", roc_auc_score(y_testSMOTE, y_pred_probaLRSMOTE).round(2))"
      ],
      "metadata": {
        "id": "OyWxA4_SCyIv",
        "colab": {
          "base_uri": "https://localhost:8080/"
        },
        "outputId": "d48136a6-8923-46fc-e715-6c92bca19aa5"
      },
      "execution_count": 43,
      "outputs": [
        {
          "output_type": "stream",
          "name": "stdout",
          "text": [
            "Logistic Regression\n",
            "Accuracy:  0.72\n",
            "Precission:  0.7\n",
            "Recall:  0.75\n",
            "F1-Score:  0.73\n",
            "ROC-AUC:  0.78\n"
          ]
        }
      ]
    },
    {
      "cell_type": "markdown",
      "source": [
        "NILAI AKURASI TIDAK TERLALU DILIHAT, seperti penilaian awal saja, depend on case\n",
        "Precisi, Recall, ROC-AUC lebih digunakan. fungsi recall"
      ],
      "metadata": {
        "id": "_D8STr0_EGel"
      }
    },
    {
      "cell_type": "markdown",
      "source": [
        "## Random Forest Tanpa SMOTE"
      ],
      "metadata": {
        "id": "DCPXkZYdIC4G"
      }
    },
    {
      "cell_type": "code",
      "source": [
        "#FitModel RandomForest\n",
        "rfTanpaSMOTE = RandomForestClassifier()\n",
        "rfTanpaSMOTE.fit(X_trainTanpaSMOTE, y_trainTanpaSMOTE)"
      ],
      "metadata": {
        "colab": {
          "base_uri": "https://localhost:8080/"
        },
        "id": "em8u1OrtIlxa",
        "outputId": "c3619a19-81eb-4007-a1a3-06c239b23f60"
      },
      "execution_count": 44,
      "outputs": [
        {
          "output_type": "execute_result",
          "data": {
            "text/plain": [
              "RandomForestClassifier()"
            ]
          },
          "metadata": {},
          "execution_count": 44
        }
      ]
    },
    {
      "cell_type": "code",
      "source": [
        "print(\"RandomForest\")\n",
        "y_predRFTanpaSMOTE = rfTanpaSMOTE.predict(X_testTanpaSMOTE)\n",
        "\n",
        "print(\"Accuracy: \", accuracy_score(y_testTanpaSMOTE, y_predRFTanpaSMOTE).round(2))\n",
        "print(\"Precission: \", precision_score(y_testTanpaSMOTE, y_predRFTanpaSMOTE).round(2))\n",
        "print(\"Recall: \", recall_score(y_testTanpaSMOTE, y_predRFTanpaSMOTE).round(2))\n",
        "print(\"F1-Score: \", f1_score(y_testTanpaSMOTE, y_predRFTanpaSMOTE).round(2))\n",
        "\n",
        "y_pred_probaRFTanpaSMOTE = rfTanpaSMOTE.predict_proba(X_testTanpaSMOTE)[::, -1]\n",
        "print(\"ROC-AUC: \", roc_auc_score(y_testTanpaSMOTE, y_pred_probaRFTanpaSMOTE).round(2))"
      ],
      "metadata": {
        "colab": {
          "base_uri": "https://localhost:8080/"
        },
        "id": "B8E0FMruIyqu",
        "outputId": "3d766a83-ee92-438d-e00a-e9013787d5cc"
      },
      "execution_count": 45,
      "outputs": [
        {
          "output_type": "stream",
          "name": "stdout",
          "text": [
            "RandomForest\n",
            "Accuracy:  0.8\n",
            "Precission:  0.51\n",
            "Recall:  0.22\n",
            "F1-Score:  0.31\n",
            "ROC-AUC:  0.71\n"
          ]
        }
      ]
    },
    {
      "cell_type": "markdown",
      "source": [
        "## Random Forest SMOTE"
      ],
      "metadata": {
        "id": "GViyB8pSJlx2"
      }
    },
    {
      "cell_type": "code",
      "source": [
        "#FitModel RandomForest\n",
        "rfSMOTE = RandomForestClassifier()\n",
        "rfSMOTE.fit(X_trainSMOTE, y_trainSMOTE)"
      ],
      "metadata": {
        "colab": {
          "base_uri": "https://localhost:8080/"
        },
        "id": "YGwGikMLJn-g",
        "outputId": "0aed0a8d-12ad-4f7f-c793-d583e4fc3b72"
      },
      "execution_count": 46,
      "outputs": [
        {
          "output_type": "execute_result",
          "data": {
            "text/plain": [
              "RandomForestClassifier()"
            ]
          },
          "metadata": {},
          "execution_count": 46
        }
      ]
    },
    {
      "cell_type": "code",
      "source": [
        "print(\"RandomForest\")\n",
        "y_predRFSMOTE = rfSMOTE.predict(X_testSMOTE)\n",
        "\n",
        "print(\"Accuracy: \", accuracy_score(y_testSMOTE, y_predRFSMOTE).round(2))\n",
        "print(\"Precission: \", precision_score(y_testSMOTE, y_predRFSMOTE).round(2))\n",
        "print(\"Recall: \", recall_score(y_testSMOTE, y_predRFSMOTE).round(2))\n",
        "print(\"F1-Score: \", f1_score(y_testSMOTE, y_predRFSMOTE).round(2))\n",
        "\n",
        "y_pred_probaRFSMOTE = rfSMOTE.predict_proba(X_testSMOTE)[::, -1]\n",
        "print(\"ROC-AUC: \", roc_auc_score(y_testSMOTE, y_pred_probaRFSMOTE).round(2))"
      ],
      "metadata": {
        "colab": {
          "base_uri": "https://localhost:8080/"
        },
        "id": "QTXpUGo6JqIO",
        "outputId": "7bc404a1-8abb-43b1-fdd0-3a3da58aadda"
      },
      "execution_count": 47,
      "outputs": [
        {
          "output_type": "stream",
          "name": "stdout",
          "text": [
            "RandomForest\n",
            "Accuracy:  0.76\n",
            "Precission:  0.76\n",
            "Recall:  0.75\n",
            "F1-Score:  0.75\n",
            "ROC-AUC:  0.83\n"
          ]
        }
      ]
    },
    {
      "cell_type": "markdown",
      "source": [
        "## Decision Tree Tanpa SMOTE"
      ],
      "metadata": {
        "id": "C_eGoOnaKlk0"
      }
    },
    {
      "cell_type": "code",
      "source": [
        "#FitModel D3C\n",
        "dtcTanpaSMOTE = DecisionTreeClassifier()\n",
        "dtcTanpaSMOTE.fit(X_trainTanpaSMOTE, y_trainTanpaSMOTE)"
      ],
      "metadata": {
        "colab": {
          "base_uri": "https://localhost:8080/"
        },
        "id": "Au2TSvEkKrIv",
        "outputId": "af1e5aa9-89cb-4085-8772-80db44c45bac"
      },
      "execution_count": 48,
      "outputs": [
        {
          "output_type": "execute_result",
          "data": {
            "text/plain": [
              "DecisionTreeClassifier()"
            ]
          },
          "metadata": {},
          "execution_count": 48
        }
      ]
    },
    {
      "cell_type": "code",
      "source": [
        "print(\"Decission Tree\")\n",
        "y_predDTTanpaSMOTE = dtcTanpaSMOTE.predict(X_testTanpaSMOTE)\n",
        "\n",
        "print(\"Accuracy: \", accuracy_score(y_testTanpaSMOTE, y_predDTTanpaSMOTE).round(2))\n",
        "print(\"Precission: \", precision_score(y_testTanpaSMOTE, y_predDTTanpaSMOTE).round(2))\n",
        "print(\"Recall: \", recall_score(y_testTanpaSMOTE, y_predDTTanpaSMOTE).round(2))\n",
        "print(\"F1-Score: \", f1_score(y_testTanpaSMOTE, y_predDTTanpaSMOTE).round(2))\n",
        "\n",
        "y_pred_probaDTTanpaSMOTE = dtcTanpaSMOTE.predict_proba(X_testTanpaSMOTE)[::, -1]\n",
        "print(\"ROC-AUC: \", roc_auc_score(y_testTanpaSMOTE, y_pred_probaDTTanpaSMOTE).round(2))"
      ],
      "metadata": {
        "colab": {
          "base_uri": "https://localhost:8080/"
        },
        "id": "rXDP-up_Kq1M",
        "outputId": "5cbb5886-26bd-48f0-e45b-7f8a72426619"
      },
      "execution_count": 49,
      "outputs": [
        {
          "output_type": "stream",
          "name": "stdout",
          "text": [
            "Decission Tree\n",
            "Accuracy:  0.73\n",
            "Precission:  0.32\n",
            "Recall:  0.32\n",
            "F1-Score:  0.32\n",
            "ROC-AUC:  0.58\n"
          ]
        }
      ]
    },
    {
      "cell_type": "markdown",
      "source": [
        "## Decision Tree SMOTE"
      ],
      "metadata": {
        "id": "q9Wo6RtVKrqW"
      }
    },
    {
      "cell_type": "code",
      "source": [
        "#FitModel D3C\n",
        "dtcSMOTE = DecisionTreeClassifier()\n",
        "dtcSMOTE.fit(X_trainSMOTE, y_trainSMOTE)"
      ],
      "metadata": {
        "colab": {
          "base_uri": "https://localhost:8080/"
        },
        "id": "_JKax4zOMoPT",
        "outputId": "6a09a1f9-4f1e-4908-8ec3-49da0211ed12"
      },
      "execution_count": 50,
      "outputs": [
        {
          "output_type": "execute_result",
          "data": {
            "text/plain": [
              "DecisionTreeClassifier()"
            ]
          },
          "metadata": {},
          "execution_count": 50
        }
      ]
    },
    {
      "cell_type": "code",
      "source": [
        "print(\"Decission Tree\")\n",
        "y_predDTSMOTE = dtcTanpaSMOTE.predict(X_testSMOTE)\n",
        "\n",
        "print(\"Accuracy: \", accuracy_score(y_testSMOTE, y_predDTSMOTE).round(2))\n",
        "print(\"Precission: \", precision_score(y_testSMOTE, y_predDTSMOTE).round(2))\n",
        "print(\"Recall: \", recall_score(y_testSMOTE, y_predDTSMOTE).round(2))\n",
        "print(\"F1-Score: \", f1_score(y_testSMOTE, y_predDTSMOTE).round(2))\n",
        "\n",
        "y_pred_probaDTSMOTE = dtcSMOTE.predict_proba(X_testSMOTE)[::, -1]\n",
        "print(\"ROC-AUC: \", roc_auc_score(y_testSMOTE, y_pred_probaDTSMOTE).round(2))"
      ],
      "metadata": {
        "colab": {
          "base_uri": "https://localhost:8080/"
        },
        "id": "5GicCFRPKwVH",
        "outputId": "e9bb0c71-4786-4294-ea63-5d6fcc8aac42"
      },
      "execution_count": 51,
      "outputs": [
        {
          "output_type": "stream",
          "name": "stdout",
          "text": [
            "Decission Tree\n",
            "Accuracy:  0.66\n",
            "Precission:  0.75\n",
            "Recall:  0.46\n",
            "F1-Score:  0.57\n",
            "ROC-AUC:  0.69\n"
          ]
        }
      ]
    },
    {
      "cell_type": "markdown",
      "source": [
        "## KNN Tanpa SMOTE"
      ],
      "metadata": {
        "id": "H9t-AplPNQCQ"
      }
    },
    {
      "cell_type": "code",
      "source": [
        "#FitModel KNN\n",
        "knnTanpaSMOTE = KNeighborsClassifier(n_neighbors = 2) #2 karena binary class\n",
        "knnTanpaSMOTE.fit(X_trainTanpaSMOTE, y_trainTanpaSMOTE)"
      ],
      "metadata": {
        "colab": {
          "base_uri": "https://localhost:8080/"
        },
        "id": "iUfNBmpLNaw2",
        "outputId": "7aa2f3d8-8440-4117-ccf1-249f6d49b714"
      },
      "execution_count": 52,
      "outputs": [
        {
          "output_type": "execute_result",
          "data": {
            "text/plain": [
              "KNeighborsClassifier(n_neighbors=2)"
            ]
          },
          "metadata": {},
          "execution_count": 52
        }
      ]
    },
    {
      "cell_type": "code",
      "source": [
        "print(\"K-Nearest Neighbour\")\n",
        "y_predKNNTanpaSMOTE = knnTanpaSMOTE.predict(X_testTanpaSMOTE)\n",
        "\n",
        "print(\"Accuracy: \", accuracy_score(y_testTanpaSMOTE, y_predKNNTanpaSMOTE).round(2))\n",
        "print(\"Precission: \", precision_score(y_testTanpaSMOTE, y_predKNNTanpaSMOTE).round(2))\n",
        "print(\"Recall: \", recall_score(y_testTanpaSMOTE, y_predKNNTanpaSMOTE).round(2))\n",
        "print(\"F1-Score: \", f1_score(y_testTanpaSMOTE, y_predKNNTanpaSMOTE).round(2))\n",
        "\n",
        "y_pred_probaKNNTanpaSMOTE = knnTanpaSMOTE.predict_proba(X_testTanpaSMOTE)[::, -1]\n",
        "print(\"ROC-AUC: \", roc_auc_score(y_testTanpaSMOTE, y_pred_probaKNNTanpaSMOTE).round(2))"
      ],
      "metadata": {
        "colab": {
          "base_uri": "https://localhost:8080/"
        },
        "id": "ow6x__7oNa3g",
        "outputId": "a4e3f35b-ed3b-4c5e-c7f7-f00d4362a12e"
      },
      "execution_count": 53,
      "outputs": [
        {
          "output_type": "stream",
          "name": "stdout",
          "text": [
            "K-Nearest Neighbour\n",
            "Accuracy:  0.79\n",
            "Precission:  0.47\n",
            "Recall:  0.13\n",
            "F1-Score:  0.2\n",
            "ROC-AUC:  0.61\n"
          ]
        }
      ]
    },
    {
      "cell_type": "markdown",
      "source": [
        "## KNN SMOTE"
      ],
      "metadata": {
        "id": "1KuqVT4lNbTG"
      }
    },
    {
      "cell_type": "code",
      "source": [
        "#FitModel KNN\n",
        "knnSMOTE = KNeighborsClassifier(n_neighbors = 2) #2 karena binary class\n",
        "knnSMOTE.fit(X_trainSMOTE, y_trainSMOTE)"
      ],
      "metadata": {
        "colab": {
          "base_uri": "https://localhost:8080/"
        },
        "id": "x6qYAbGPNlKN",
        "outputId": "a9b1967d-a874-45a5-fa95-06a89253415b"
      },
      "execution_count": 54,
      "outputs": [
        {
          "output_type": "execute_result",
          "data": {
            "text/plain": [
              "KNeighborsClassifier(n_neighbors=2)"
            ]
          },
          "metadata": {},
          "execution_count": 54
        }
      ]
    },
    {
      "cell_type": "code",
      "source": [
        "print(\"K-Nearest Neighbour\")\n",
        "y_predKNNSMOTE = knnSMOTE.predict(X_testSMOTE)\n",
        "\n",
        "print(\"Accuracy: \", accuracy_score(y_testSMOTE, y_predKNNSMOTE).round(2))\n",
        "print(\"Precission: \", precision_score(y_testSMOTE, y_predKNNSMOTE).round(2))\n",
        "print(\"Recall: \", recall_score(y_testSMOTE, y_predKNNSMOTE).round(2))\n",
        "print(\"F1-Score: \", f1_score(y_testSMOTE, y_predKNNSMOTE).round(2))\n",
        "\n",
        "y_pred_probaKNNSMOTE = knnSMOTE.predict_proba(X_testSMOTE)[::, -1]\n",
        "print(\"ROC-AUC: \", roc_auc_score(y_testSMOTE, y_pred_probaKNNSMOTE).round(2))"
      ],
      "metadata": {
        "colab": {
          "base_uri": "https://localhost:8080/"
        },
        "id": "Ta7caMnaNkn3",
        "outputId": "4e50ca1e-a982-408b-e0ae-a8ccdbd51395"
      },
      "execution_count": 55,
      "outputs": [
        {
          "output_type": "stream",
          "name": "stdout",
          "text": [
            "K-Nearest Neighbour\n",
            "Accuracy:  0.7\n",
            "Precission:  0.78\n",
            "Recall:  0.55\n",
            "F1-Score:  0.64\n",
            "ROC-AUC:  0.76\n"
          ]
        }
      ]
    },
    {
      "cell_type": "markdown",
      "source": [
        "## SVC Tanpa SMOTE"
      ],
      "metadata": {
        "id": "r2wc7BRXP7_2"
      }
    },
    {
      "cell_type": "code",
      "source": [
        "from sklearn.svm import SVC\n",
        "\n",
        "svcTanpaSMOTE = SVC(probability=True)\n",
        "svcTanpaSMOTE.fit(X_trainTanpaSMOTE, y_trainTanpaSMOTE)"
      ],
      "metadata": {
        "colab": {
          "base_uri": "https://localhost:8080/"
        },
        "id": "vlOe-SNdQD9E",
        "outputId": "bce701d2-b791-4d18-faf3-0f2f12150b4f"
      },
      "execution_count": 56,
      "outputs": [
        {
          "output_type": "execute_result",
          "data": {
            "text/plain": [
              "SVC(probability=True)"
            ]
          },
          "metadata": {},
          "execution_count": 56
        }
      ]
    },
    {
      "cell_type": "code",
      "source": [
        "print(\"SVC\")\n",
        "y_predSVCTanpaSMOTE = svcTanpaSMOTE.predict(X_testTanpaSMOTE)\n",
        "\n",
        "print(\"Accuracy: \", accuracy_score(y_testTanpaSMOTE, y_predSVCTanpaSMOTE).round(2))\n",
        "print(\"Precission: \", precision_score(y_testTanpaSMOTE, y_predSVCTanpaSMOTE).round(2))\n",
        "print(\"Recall: \", recall_score(y_testTanpaSMOTE, y_predSVCTanpaSMOTE).round(2))\n",
        "print(\"F1-Score: \", f1_score(y_testTanpaSMOTE, y_predSVCTanpaSMOTE).round(2))\n",
        "\n",
        "y_pred_probaSVCTanpaSMOTE = svcTanpaSMOTE.predict_proba(X_testTanpaSMOTE)[::, -1]\n",
        "print(\"ROC-AUC: \", roc_auc_score(y_testTanpaSMOTE, y_pred_probaSVCTanpaSMOTE).round(2))"
      ],
      "metadata": {
        "colab": {
          "base_uri": "https://localhost:8080/"
        },
        "id": "2_8WAEfiQD4y",
        "outputId": "45a5c3fd-4962-4428-ef6d-8e2a60a071ee"
      },
      "execution_count": 57,
      "outputs": [
        {
          "output_type": "stream",
          "name": "stdout",
          "text": [
            "SVC\n",
            "Accuracy:  0.8\n",
            "Precission:  0.0\n",
            "Recall:  0.0\n",
            "F1-Score:  0.0\n",
            "ROC-AUC:  0.69\n"
          ]
        }
      ]
    },
    {
      "cell_type": "markdown",
      "source": [
        "## SVC SMOTE"
      ],
      "metadata": {
        "id": "XrioDNeXQAxS"
      }
    },
    {
      "cell_type": "code",
      "source": [
        "from sklearn.svm import SVC\n",
        "\n",
        "svcSMOTE = SVC(probability=True)\n",
        "svcSMOTE.fit(X_trainSMOTE, y_trainSMOTE)"
      ],
      "metadata": {
        "id": "E18409UaQEms",
        "colab": {
          "base_uri": "https://localhost:8080/"
        },
        "outputId": "69213792-2a20-4308-bff6-5667105938c6"
      },
      "execution_count": 58,
      "outputs": [
        {
          "output_type": "execute_result",
          "data": {
            "text/plain": [
              "SVC(probability=True)"
            ]
          },
          "metadata": {},
          "execution_count": 58
        }
      ]
    },
    {
      "cell_type": "code",
      "source": [
        "print(\"SVC\")\n",
        "y_predSVCSMOTE = svcSMOTE.predict(X_testSMOTE)\n",
        "\n",
        "print(\"Accuracy: \", accuracy_score(y_testSMOTE, y_predSVCSMOTE).round(2))\n",
        "print(\"Precission: \", precision_score(y_testSMOTE, y_predSVCSMOTE).round(2))\n",
        "print(\"Recall: \", recall_score(y_testSMOTE, y_predSVCSMOTE).round(2))\n",
        "print(\"F1-Score: \", f1_score(y_testSMOTE, y_predSVCSMOTE).round(2))\n",
        "\n",
        "y_pred_probaSVCSMOTE = svcSMOTE.predict_proba(X_testSMOTE)[::, -1]\n",
        "print(\"ROC-AUC: \", roc_auc_score(y_testSMOTE, y_pred_probaSVCSMOTE).round(2))"
      ],
      "metadata": {
        "id": "0w1b8Cu-QEji",
        "colab": {
          "base_uri": "https://localhost:8080/"
        },
        "outputId": "808b22e7-5d82-4a44-eace-851d5d39def8"
      },
      "execution_count": 59,
      "outputs": [
        {
          "output_type": "stream",
          "name": "stdout",
          "text": [
            "SVC\n",
            "Accuracy:  0.73\n",
            "Precission:  0.73\n",
            "Recall:  0.73\n",
            "F1-Score:  0.73\n",
            "ROC-AUC:  0.8\n"
          ]
        }
      ]
    },
    {
      "cell_type": "markdown",
      "source": [
        "# Saving Model"
      ],
      "metadata": {
        "id": "j8YmabO0WNsm"
      }
    },
    {
      "cell_type": "markdown",
      "source": [
        "### Simulasi Prediksi"
      ],
      "metadata": {
        "id": "gNm1WAQ7ZIYF"
      }
    },
    {
      "cell_type": "code",
      "source": [
        "X_SavingModel = X_SMOTE.copy()\n",
        "y_SavingModel = y_SMOTE.copy()"
      ],
      "metadata": {
        "id": "YwurM7Z7WUIP"
      },
      "execution_count": 60,
      "outputs": []
    },
    {
      "cell_type": "code",
      "source": [
        "# Test Split\n",
        "X_trainSM,X_testSM,y_trainSM,y_testSM = train_test_split(X_SavingModel,y_SavingModel,test_size = 0.35, random_state = 123)"
      ],
      "metadata": {
        "id": "uxJPL1GPWlwb"
      },
      "execution_count": 61,
      "outputs": []
    },
    {
      "cell_type": "code",
      "source": [
        "from sklearn.pipeline import Pipeline"
      ],
      "metadata": {
        "id": "YBvKnUb5XhC4"
      },
      "execution_count": 62,
      "outputs": []
    },
    {
      "cell_type": "code",
      "source": [
        "pipe = Pipeline([('Scalling', MinMaxScaler()), ('AlgoritmayangDipilih', RandomForestClassifier())])\n",
        "pipe.fit(X_trainSM, y_trainSM)"
      ],
      "metadata": {
        "id": "Rz_-UPzKX0SH",
        "colab": {
          "base_uri": "https://localhost:8080/"
        },
        "outputId": "c4f520a3-8676-4600-d5a8-120463ed4d3f"
      },
      "execution_count": 63,
      "outputs": [
        {
          "output_type": "execute_result",
          "data": {
            "text/plain": [
              "Pipeline(steps=[('Scalling', MinMaxScaler()),\n",
              "                ('AlgoritmayangDipilih', RandomForestClassifier())])"
            ]
          },
          "metadata": {},
          "execution_count": 63
        }
      ]
    },
    {
      "cell_type": "code",
      "source": [
        "pipe.predict([[0,\t42,\t619,\t14.738095,\t101348.88,\t1]])"
      ],
      "metadata": {
        "id": "EmSqU29pYelT",
        "colab": {
          "base_uri": "https://localhost:8080/"
        },
        "outputId": "4b03ebf0-ed5b-457c-b0eb-852532da19b9"
      },
      "execution_count": 64,
      "outputs": [
        {
          "output_type": "execute_result",
          "data": {
            "text/plain": [
              "array([1])"
            ]
          },
          "metadata": {},
          "execution_count": 64
        }
      ]
    },
    {
      "cell_type": "markdown",
      "source": [
        "### Saving Model"
      ],
      "metadata": {
        "id": "_XiMWl1CZLE6"
      }
    },
    {
      "cell_type": "code",
      "source": [
        "# saving the model \n",
        "import pickle \n",
        "PrediksiChurnITMEANS = 'PrediksiModel.pkl'\n",
        "pickle.dump(pipe, open(PrediksiChurnITMEANS, 'wb'))\n",
        "LoadModel = pickle.load(open('PrediksiModel.pkl', 'rb'))"
      ],
      "metadata": {
        "id": "zKiP_fM0ZP72"
      },
      "execution_count": 65,
      "outputs": []
    },
    {
      "cell_type": "code",
      "source": [
        "LoadModel.predict([[0,\t42,\t619,\t14.738095,\t101348.88,\t1]])"
      ],
      "metadata": {
        "id": "_a2waHs7bPTe",
        "colab": {
          "base_uri": "https://localhost:8080/"
        },
        "outputId": "5f900b87-2c05-46dc-f3d2-b4ae169e9b90"
      },
      "execution_count": 66,
      "outputs": [
        {
          "output_type": "execute_result",
          "data": {
            "text/plain": [
              "array([1])"
            ]
          },
          "metadata": {},
          "execution_count": 66
        }
      ]
    }
  ],
  "metadata": {
    "colab": {
      "provenance": [],
      "include_colab_link": true
    },
    "kernelspec": {
      "display_name": "Python 3",
      "name": "python3"
    },
    "language_info": {
      "name": "python"
    }
  },
  "nbformat": 4,
  "nbformat_minor": 0
}